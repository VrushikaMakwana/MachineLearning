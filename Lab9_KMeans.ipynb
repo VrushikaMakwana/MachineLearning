{
  "nbformat": 4,
  "nbformat_minor": 0,
  "metadata": {
    "colab": {
      "name": "Lab9_KMeans.ipynb",
      "provenance": [],
      "collapsed_sections": []
    },
    "kernelspec": {
      "name": "python3",
      "display_name": "Python 3"
    },
    "language_info": {
      "name": "python"
    }
  },
  "cells": [
    {
      "cell_type": "code",
      "source": [
        "!pip install yellowbrick"
      ],
      "metadata": {
        "colab": {
          "base_uri": "https://localhost:8080/"
        },
        "id": "1KK_XNnFU-Pa",
        "outputId": "18831dd7-2272-4ef1-b195-d604ebd8f485"
      },
      "execution_count": null,
      "outputs": [
        {
          "output_type": "stream",
          "name": "stdout",
          "text": [
            "Requirement already satisfied: yellowbrick in /usr/local/lib/python3.7/dist-packages (1.4)\n",
            "Requirement already satisfied: cycler>=0.10.0 in /usr/local/lib/python3.7/dist-packages (from yellowbrick) (0.11.0)\n",
            "Requirement already satisfied: numpy>=1.16.0 in /usr/local/lib/python3.7/dist-packages (from yellowbrick) (1.21.5)\n",
            "Requirement already satisfied: matplotlib!=3.0.0,>=2.0.2 in /usr/local/lib/python3.7/dist-packages (from yellowbrick) (3.2.2)\n",
            "Requirement already satisfied: scipy>=1.0.0 in /usr/local/lib/python3.7/dist-packages (from yellowbrick) (1.4.1)\n",
            "Requirement already satisfied: scikit-learn>=1.0.0 in /usr/local/lib/python3.7/dist-packages (from yellowbrick) (1.0.2)\n",
            "Requirement already satisfied: pyparsing!=2.0.4,!=2.1.2,!=2.1.6,>=2.0.1 in /usr/local/lib/python3.7/dist-packages (from matplotlib!=3.0.0,>=2.0.2->yellowbrick) (3.0.7)\n",
            "Requirement already satisfied: kiwisolver>=1.0.1 in /usr/local/lib/python3.7/dist-packages (from matplotlib!=3.0.0,>=2.0.2->yellowbrick) (1.3.2)\n",
            "Requirement already satisfied: python-dateutil>=2.1 in /usr/local/lib/python3.7/dist-packages (from matplotlib!=3.0.0,>=2.0.2->yellowbrick) (2.8.2)\n",
            "Requirement already satisfied: six>=1.5 in /usr/local/lib/python3.7/dist-packages (from python-dateutil>=2.1->matplotlib!=3.0.0,>=2.0.2->yellowbrick) (1.15.0)\n",
            "Requirement already satisfied: joblib>=0.11 in /usr/local/lib/python3.7/dist-packages (from scikit-learn>=1.0.0->yellowbrick) (1.1.0)\n",
            "Requirement already satisfied: threadpoolctl>=2.0.0 in /usr/local/lib/python3.7/dist-packages (from scikit-learn>=1.0.0->yellowbrick) (3.1.0)\n"
          ]
        }
      ]
    },
    {
      "cell_type": "markdown",
      "source": [
        "**IRIS DATASET**"
      ],
      "metadata": {
        "id": "_lEOVrBYyBm7"
      }
    },
    {
      "cell_type": "code",
      "source": [
        "from sklearn import datasets \n",
        "import numpy as np\n",
        "import matplotlib.pyplot as plt"
      ],
      "metadata": {
        "id": "dBL-PmwxC_9f"
      },
      "execution_count": null,
      "outputs": []
    },
    {
      "cell_type": "code",
      "source": [
        "iris=datasets.load_iris()"
      ],
      "metadata": {
        "id": "NkvU6cPKDUNt"
      },
      "execution_count": null,
      "outputs": []
    },
    {
      "cell_type": "code",
      "source": [
        "f1=iris.data[:,:1]\n",
        "f2=iris.data[:,1:2]\n",
        "x=np.concatenate((f1,f2),axis=1)\n",
        "print(x)"
      ],
      "metadata": {
        "colab": {
          "base_uri": "https://localhost:8080/"
        },
        "id": "RuYIc1PLDiN-",
        "outputId": "ef07b1ac-8a93-46db-da38-8b8e9ffff303"
      },
      "execution_count": null,
      "outputs": [
        {
          "output_type": "stream",
          "name": "stdout",
          "text": [
            "[[5.1 3.5]\n",
            " [4.9 3. ]\n",
            " [4.7 3.2]\n",
            " [4.6 3.1]\n",
            " [5.  3.6]\n",
            " [5.4 3.9]\n",
            " [4.6 3.4]\n",
            " [5.  3.4]\n",
            " [4.4 2.9]\n",
            " [4.9 3.1]\n",
            " [5.4 3.7]\n",
            " [4.8 3.4]\n",
            " [4.8 3. ]\n",
            " [4.3 3. ]\n",
            " [5.8 4. ]\n",
            " [5.7 4.4]\n",
            " [5.4 3.9]\n",
            " [5.1 3.5]\n",
            " [5.7 3.8]\n",
            " [5.1 3.8]\n",
            " [5.4 3.4]\n",
            " [5.1 3.7]\n",
            " [4.6 3.6]\n",
            " [5.1 3.3]\n",
            " [4.8 3.4]\n",
            " [5.  3. ]\n",
            " [5.  3.4]\n",
            " [5.2 3.5]\n",
            " [5.2 3.4]\n",
            " [4.7 3.2]\n",
            " [4.8 3.1]\n",
            " [5.4 3.4]\n",
            " [5.2 4.1]\n",
            " [5.5 4.2]\n",
            " [4.9 3.1]\n",
            " [5.  3.2]\n",
            " [5.5 3.5]\n",
            " [4.9 3.6]\n",
            " [4.4 3. ]\n",
            " [5.1 3.4]\n",
            " [5.  3.5]\n",
            " [4.5 2.3]\n",
            " [4.4 3.2]\n",
            " [5.  3.5]\n",
            " [5.1 3.8]\n",
            " [4.8 3. ]\n",
            " [5.1 3.8]\n",
            " [4.6 3.2]\n",
            " [5.3 3.7]\n",
            " [5.  3.3]\n",
            " [7.  3.2]\n",
            " [6.4 3.2]\n",
            " [6.9 3.1]\n",
            " [5.5 2.3]\n",
            " [6.5 2.8]\n",
            " [5.7 2.8]\n",
            " [6.3 3.3]\n",
            " [4.9 2.4]\n",
            " [6.6 2.9]\n",
            " [5.2 2.7]\n",
            " [5.  2. ]\n",
            " [5.9 3. ]\n",
            " [6.  2.2]\n",
            " [6.1 2.9]\n",
            " [5.6 2.9]\n",
            " [6.7 3.1]\n",
            " [5.6 3. ]\n",
            " [5.8 2.7]\n",
            " [6.2 2.2]\n",
            " [5.6 2.5]\n",
            " [5.9 3.2]\n",
            " [6.1 2.8]\n",
            " [6.3 2.5]\n",
            " [6.1 2.8]\n",
            " [6.4 2.9]\n",
            " [6.6 3. ]\n",
            " [6.8 2.8]\n",
            " [6.7 3. ]\n",
            " [6.  2.9]\n",
            " [5.7 2.6]\n",
            " [5.5 2.4]\n",
            " [5.5 2.4]\n",
            " [5.8 2.7]\n",
            " [6.  2.7]\n",
            " [5.4 3. ]\n",
            " [6.  3.4]\n",
            " [6.7 3.1]\n",
            " [6.3 2.3]\n",
            " [5.6 3. ]\n",
            " [5.5 2.5]\n",
            " [5.5 2.6]\n",
            " [6.1 3. ]\n",
            " [5.8 2.6]\n",
            " [5.  2.3]\n",
            " [5.6 2.7]\n",
            " [5.7 3. ]\n",
            " [5.7 2.9]\n",
            " [6.2 2.9]\n",
            " [5.1 2.5]\n",
            " [5.7 2.8]\n",
            " [6.3 3.3]\n",
            " [5.8 2.7]\n",
            " [7.1 3. ]\n",
            " [6.3 2.9]\n",
            " [6.5 3. ]\n",
            " [7.6 3. ]\n",
            " [4.9 2.5]\n",
            " [7.3 2.9]\n",
            " [6.7 2.5]\n",
            " [7.2 3.6]\n",
            " [6.5 3.2]\n",
            " [6.4 2.7]\n",
            " [6.8 3. ]\n",
            " [5.7 2.5]\n",
            " [5.8 2.8]\n",
            " [6.4 3.2]\n",
            " [6.5 3. ]\n",
            " [7.7 3.8]\n",
            " [7.7 2.6]\n",
            " [6.  2.2]\n",
            " [6.9 3.2]\n",
            " [5.6 2.8]\n",
            " [7.7 2.8]\n",
            " [6.3 2.7]\n",
            " [6.7 3.3]\n",
            " [7.2 3.2]\n",
            " [6.2 2.8]\n",
            " [6.1 3. ]\n",
            " [6.4 2.8]\n",
            " [7.2 3. ]\n",
            " [7.4 2.8]\n",
            " [7.9 3.8]\n",
            " [6.4 2.8]\n",
            " [6.3 2.8]\n",
            " [6.1 2.6]\n",
            " [7.7 3. ]\n",
            " [6.3 3.4]\n",
            " [6.4 3.1]\n",
            " [6.  3. ]\n",
            " [6.9 3.1]\n",
            " [6.7 3.1]\n",
            " [6.9 3.1]\n",
            " [5.8 2.7]\n",
            " [6.8 3.2]\n",
            " [6.7 3.3]\n",
            " [6.7 3. ]\n",
            " [6.3 2.5]\n",
            " [6.5 3. ]\n",
            " [6.2 3.4]\n",
            " [5.9 3. ]]\n"
          ]
        }
      ]
    },
    {
      "cell_type": "code",
      "source": [
        "from sklearn.cluster import KMeans\n",
        "km=KMeans(n_clusters=2,init='k-means++',random_state=116).fit(x)\n",
        "km"
      ],
      "metadata": {
        "colab": {
          "base_uri": "https://localhost:8080/"
        },
        "id": "vam-XWxhMCcJ",
        "outputId": "0d791356-8377-453f-9a66-6e8040663e53"
      },
      "execution_count": null,
      "outputs": [
        {
          "output_type": "execute_result",
          "data": {
            "text/plain": [
              "KMeans(n_clusters=2, random_state=116)"
            ]
          },
          "metadata": {},
          "execution_count": 15
        }
      ]
    },
    {
      "cell_type": "code",
      "source": [
        "km.cluster_centers_"
      ],
      "metadata": {
        "colab": {
          "base_uri": "https://localhost:8080/"
        },
        "id": "HlXxJKs1OD4e",
        "outputId": "24d60279-cea9-4074-ddfd-9cb7b6513b7a"
      },
      "execution_count": null,
      "outputs": [
        {
          "output_type": "execute_result",
          "data": {
            "text/plain": [
              "array([[5.22409639, 3.1313253 ],\n",
              "       [6.61044776, 2.96567164]])"
            ]
          },
          "metadata": {},
          "execution_count": 16
        }
      ]
    },
    {
      "cell_type": "code",
      "source": [
        "km.labels_"
      ],
      "metadata": {
        "colab": {
          "base_uri": "https://localhost:8080/"
        },
        "id": "WOhhtjUoORir",
        "outputId": "965eb35a-6749-48ba-bab8-c707eebbccf3"
      },
      "execution_count": null,
      "outputs": [
        {
          "output_type": "execute_result",
          "data": {
            "text/plain": [
              "array([0, 0, 0, 0, 0, 0, 0, 0, 0, 0, 0, 0, 0, 0, 0, 0, 0, 0, 0, 0, 0, 0,\n",
              "       0, 0, 0, 0, 0, 0, 0, 0, 0, 0, 0, 0, 0, 0, 0, 0, 0, 0, 0, 0, 0, 0,\n",
              "       0, 0, 0, 0, 0, 0, 1, 1, 1, 0, 1, 0, 1, 0, 1, 0, 0, 0, 1, 1, 0, 1,\n",
              "       0, 0, 1, 0, 0, 1, 1, 1, 1, 1, 1, 1, 1, 0, 0, 0, 0, 1, 0, 1, 1, 1,\n",
              "       0, 0, 0, 1, 0, 0, 0, 0, 0, 1, 0, 0, 1, 0, 1, 1, 1, 1, 0, 1, 1, 1,\n",
              "       1, 1, 1, 0, 0, 1, 1, 1, 1, 1, 1, 0, 1, 1, 1, 1, 1, 1, 1, 1, 1, 1,\n",
              "       1, 1, 1, 1, 1, 1, 1, 1, 1, 1, 0, 1, 1, 1, 1, 1, 1, 0], dtype=int32)"
            ]
          },
          "metadata": {},
          "execution_count": 17
        }
      ]
    },
    {
      "cell_type": "code",
      "source": [
        "plt.scatter(x[:,0],x[:,-1])\n",
        "plt.scatter(km.cluster_centers_[:,0],km.cluster_centers_[:,1],c='red',marker='X')\n",
        "plt.title(\"Data Points and cluster centroid\")\n",
        "plt.show()"
      ],
      "metadata": {
        "colab": {
          "base_uri": "https://localhost:8080/",
          "height": 281
        },
        "id": "0w9qoqAWOXqz",
        "outputId": "4ba3f490-6f0f-4dde-fcd6-e127ce96dfad"
      },
      "execution_count": null,
      "outputs": [
        {
          "output_type": "display_data",
          "data": {
            "image/png": "[encoded data removed]",
            "text/plain": [
              "<Figure size 432x288 with 1 Axes>"
            ]
          },
          "metadata": {
            "needs_background": "light"
          }
        }
      ]
    },
    {
      "cell_type": "code",
      "source": [
        "from sklearn.metrics import silhouette_score\n",
        "print(silhouette_score(x,km.labels_))"
      ],
      "metadata": {
        "id": "9v5s4XUKQW1F",
        "colab": {
          "base_uri": "https://localhost:8080/"
        },
        "outputId": "8fcc0efb-6b82-4b60-82cb-4fa8568f5454"
      },
      "execution_count": null,
      "outputs": [
        {
          "output_type": "stream",
          "name": "stdout",
          "text": [
            "0.4629549773635977\n"
          ]
        }
      ]
    },
    {
      "cell_type": "code",
      "source": [
        "from yellowbrick.cluster import KElbowVisualizer\n",
        "model=KMeans(random_state=116)\n",
        "visualizer=KElbowVisualizer(model,k=(2,50),metric='silhouette',timings=False)\n",
        "visualizer.fit(x)\n",
        "visualizer.poof()"
      ],
      "metadata": {
        "colab": {
          "base_uri": "https://localhost:8080/",
          "height": 394
        },
        "id": "9DDkHyJaTrcD",
        "outputId": "8084f67f-789e-4e44-ae7d-420fdc1337f8"
      },
      "execution_count": 21,
      "outputs": [
        {
          "output_type": "display_data",
          "data": {
            "image/png": "[encoded data removed]",
            "text/plain": [
              "<Figure size 576x396 with 1 Axes>"
            ]
          },
          "metadata": {}
        },
        {
          "output_type": "execute_result",
          "data": {
            "text/plain": [
              "<matplotlib.axes._subplots.AxesSubplot at 0x7ff14bd6f590>"
            ]
          },
          "metadata": {},
          "execution_count": 21
        }
      ]
    },
    {
      "cell_type": "markdown",
      "source": [
        "**Diabetes Dataset**"
      ],
      "metadata": {
        "id": "0rmvEqeHXjfx"
      }
    },
    {
      "cell_type": "code",
      "source": [
        "from sklearn import datasets\n",
        "import numpy as np\n",
        "import matplotlib.pyplot as plt"
      ],
      "metadata": {
        "id": "RvIcmh6nYVG5"
      },
      "execution_count": 23,
      "outputs": []
    },
    {
      "cell_type": "code",
      "source": [
        "dataset=datasets.load_diabetes()\n",
        "dataset"
      ],
      "metadata": {
        "id": "qT-sE8mOZWQh",
        "colab": {
          "base_uri": "https://localhost:8080/"
        },
        "outputId": "ffa1c908-df79-46e4-e080-20a801e8a821"
      },
      "execution_count": 24,
      "outputs": [
        {
          "output_type": "execute_result",
          "data": {
            "text/plain": [
              "{'DESCR': '.. _diabetes_dataset:\\n\\nDiabetes dataset\\n----------------\\n\\nTen baseline variables, age, sex, body mass index, average blood\\npressure, and six blood serum measurements were obtained for each of n =\\n442 diabetes patients, as well as the response of interest, a\\nquantitative measure of disease progression one year after baseline.\\n\\n**Data Set Characteristics:**\\n\\n  :Number of Instances: 442\\n\\n  :Number of Attributes: First 10 columns are numeric predictive values\\n\\n  :Target: Column 11 is a quantitative measure of disease progression one year after baseline\\n\\n  :Attribute Information:\\n      - age     age in years\\n      - sex\\n      - bmi     body mass index\\n      - bp      average blood pressure\\n      - s1      tc, total serum cholesterol\\n      - s2      ldl, low-density lipoproteins\\n      - s3      hdl, high-density lipoproteins\\n      - s4      tch, total cholesterol / HDL\\n      - s5      ltg, possibly log of serum triglycerides level\\n      - s6      glu, blood sugar level\\n\\nNote: Each of these 10 feature variables have been mean centered and scaled by the standard deviation times `n_samples` (i.e. the sum of squares of each column totals 1).\\n\\nSource URL:\\nhttps://www4.stat.ncsu.edu/~boos/var.select/diabetes.html\\n\\nFor more information see:\\nBradley Efron, Trevor Hastie, Iain Johnstone and Robert Tibshirani (2004) \"Least Angle Regression,\" Annals of Statistics (with discussion), 407-499.\\n(https://web.stanford.edu/~hastie/Papers/LARS/LeastAngle_2002.pdf)',\n",
              " 'data': array([[ 0.03807591,  0.05068012,  0.06169621, ..., -0.00259226,\n",
              "          0.01990842, -0.01764613],\n",
              "        [-0.00188202, -0.04464164, -0.05147406, ..., -0.03949338,\n",
              "         -0.06832974, -0.09220405],\n",
              "        [ 0.08529891,  0.05068012,  0.04445121, ..., -0.00259226,\n",
              "          0.00286377, -0.02593034],\n",
              "        ...,\n",
              "        [ 0.04170844,  0.05068012, -0.01590626, ..., -0.01107952,\n",
              "         -0.04687948,  0.01549073],\n",
              "        [-0.04547248, -0.04464164,  0.03906215, ...,  0.02655962,\n",
              "          0.04452837, -0.02593034],\n",
              "        [-0.04547248, -0.04464164, -0.0730303 , ..., -0.03949338,\n",
              "         -0.00421986,  0.00306441]]),\n",
              " 'data_filename': 'diabetes_data.csv.gz',\n",
              " 'data_module': 'sklearn.datasets.data',\n",
              " 'feature_names': ['age',\n",
              "  'sex',\n",
              "  'bmi',\n",
              "  'bp',\n",
              "  's1',\n",
              "  's2',\n",
              "  's3',\n",
              "  's4',\n",
              "  's5',\n",
              "  's6'],\n",
              " 'frame': None,\n",
              " 'target': array([151.,  75., 141., 206., 135.,  97., 138.,  63., 110., 310., 101.,\n",
              "         69., 179., 185., 118., 171., 166., 144.,  97., 168.,  68.,  49.,\n",
              "         68., 245., 184., 202., 137.,  85., 131., 283., 129.,  59., 341.,\n",
              "         87.,  65., 102., 265., 276., 252.,  90., 100.,  55.,  61.,  92.,\n",
              "        259.,  53., 190., 142.,  75., 142., 155., 225.,  59., 104., 182.,\n",
              "        128.,  52.,  37., 170., 170.,  61., 144.,  52., 128.,  71., 163.,\n",
              "        150.,  97., 160., 178.,  48., 270., 202., 111.,  85.,  42., 170.,\n",
              "        200., 252., 113., 143.,  51.,  52., 210.,  65., 141.,  55., 134.,\n",
              "         42., 111.,  98., 164.,  48.,  96.,  90., 162., 150., 279.,  92.,\n",
              "         83., 128., 102., 302., 198.,  95.,  53., 134., 144., 232.,  81.,\n",
              "        104.,  59., 246., 297., 258., 229., 275., 281., 179., 200., 200.,\n",
              "        173., 180.,  84., 121., 161.,  99., 109., 115., 268., 274., 158.,\n",
              "        107.,  83., 103., 272.,  85., 280., 336., 281., 118., 317., 235.,\n",
              "         60., 174., 259., 178., 128.,  96., 126., 288.,  88., 292.,  71.,\n",
              "        197., 186.,  25.,  84.,  96., 195.,  53., 217., 172., 131., 214.,\n",
              "         59.,  70., 220., 268., 152.,  47.,  74., 295., 101., 151., 127.,\n",
              "        237., 225.,  81., 151., 107.,  64., 138., 185., 265., 101., 137.,\n",
              "        143., 141.,  79., 292., 178.,  91., 116.,  86., 122.,  72., 129.,\n",
              "        142.,  90., 158.,  39., 196., 222., 277.,  99., 196., 202., 155.,\n",
              "         77., 191.,  70.,  73.,  49.,  65., 263., 248., 296., 214., 185.,\n",
              "         78.,  93., 252., 150.,  77., 208.,  77., 108., 160.,  53., 220.,\n",
              "        154., 259.,  90., 246., 124.,  67.,  72., 257., 262., 275., 177.,\n",
              "         71.,  47., 187., 125.,  78.,  51., 258., 215., 303., 243.,  91.,\n",
              "        150., 310., 153., 346.,  63.,  89.,  50.,  39., 103., 308., 116.,\n",
              "        145.,  74.,  45., 115., 264.,  87., 202., 127., 182., 241.,  66.,\n",
              "         94., 283.,  64., 102., 200., 265.,  94., 230., 181., 156., 233.,\n",
              "         60., 219.,  80.,  68., 332., 248.,  84., 200.,  55.,  85.,  89.,\n",
              "         31., 129.,  83., 275.,  65., 198., 236., 253., 124.,  44., 172.,\n",
              "        114., 142., 109., 180., 144., 163., 147.,  97., 220., 190., 109.,\n",
              "        191., 122., 230., 242., 248., 249., 192., 131., 237.,  78., 135.,\n",
              "        244., 199., 270., 164.,  72.,  96., 306.,  91., 214.,  95., 216.,\n",
              "        263., 178., 113., 200., 139., 139.,  88., 148.,  88., 243.,  71.,\n",
              "         77., 109., 272.,  60.,  54., 221.,  90., 311., 281., 182., 321.,\n",
              "         58., 262., 206., 233., 242., 123., 167.,  63., 197.,  71., 168.,\n",
              "        140., 217., 121., 235., 245.,  40.,  52., 104., 132.,  88.,  69.,\n",
              "        219.,  72., 201., 110.,  51., 277.,  63., 118.,  69., 273., 258.,\n",
              "         43., 198., 242., 232., 175.,  93., 168., 275., 293., 281.,  72.,\n",
              "        140., 189., 181., 209., 136., 261., 113., 131., 174., 257.,  55.,\n",
              "         84.,  42., 146., 212., 233.,  91., 111., 152., 120.,  67., 310.,\n",
              "         94., 183.,  66., 173.,  72.,  49.,  64.,  48., 178., 104., 132.,\n",
              "        220.,  57.]),\n",
              " 'target_filename': 'diabetes_target.csv.gz'}"
            ]
          },
          "metadata": {},
          "execution_count": 24
        }
      ]
    },
    {
      "cell_type": "code",
      "source": [
        "fn1=dataset.data[:,:1]\n",
        "fn2=dataset.data[:,:2]\n",
        "y=np.concatenate((fn1,fn2),axis=1)\n",
        "print(y)"
      ],
      "metadata": {
        "colab": {
          "base_uri": "https://localhost:8080/"
        },
        "id": "ynHnrS6JzxGx",
        "outputId": "698ac0e3-682e-485c-bd0d-3297d645fb75"
      },
      "execution_count": 31,
      "outputs": [
        {
          "output_type": "stream",
          "name": "stdout",
          "text": [
            "[[ 0.03807591  0.03807591  0.05068012]\n",
            " [-0.00188202 -0.00188202 -0.04464164]\n",
            " [ 0.08529891  0.08529891  0.05068012]\n",
            " ...\n",
            " [ 0.04170844  0.04170844  0.05068012]\n",
            " [-0.04547248 -0.04547248 -0.04464164]\n",
            " [-0.04547248 -0.04547248 -0.04464164]]\n"
          ]
        }
      ]
    },
    {
      "cell_type": "code",
      "source": [
        "from sklearn.cluster import KMeans\n",
        "km=KMeans(n_clusters=7,init='k-means++',random_state=116).fit(y)\n",
        "km"
      ],
      "metadata": {
        "colab": {
          "base_uri": "https://localhost:8080/"
        },
        "id": "fPxrJqMP0mlY",
        "outputId": "75716cf2-a9dc-455a-e1d6-8f134c174dc8"
      },
      "execution_count": 39,
      "outputs": [
        {
          "output_type": "execute_result",
          "data": {
            "text/plain": [
              "KMeans(n_clusters=7, random_state=116)"
            ]
          },
          "metadata": {},
          "execution_count": 39
        }
      ]
    },
    {
      "cell_type": "code",
      "source": [
        "km.cluster_centers_"
      ],
      "metadata": {
        "colab": {
          "base_uri": "https://localhost:8080/"
        },
        "id": "ZArvWHm813BQ",
        "outputId": "a6c1652a-fe36-4219-9d09-4e3b19230f7d"
      },
      "execution_count": 40,
      "outputs": [
        {
          "output_type": "execute_result",
          "data": {
            "text/plain": [
              "array([[ 0.00955839,  0.00955839, -0.04464164],\n",
              "       [ 0.05447013,  0.05447013,  0.05068012],\n",
              "       [-0.05343857, -0.05343857,  0.05068012],\n",
              "       [ 0.05884455,  0.05884455, -0.04464164],\n",
              "       [-0.03639113, -0.03639113, -0.04464164],\n",
              "       [-0.0848962 , -0.0848962 , -0.04464164],\n",
              "       [ 0.0098501 ,  0.0098501 ,  0.05068012]])"
            ]
          },
          "metadata": {},
          "execution_count": 40
        }
      ]
    },
    {
      "cell_type": "code",
      "source": [
        "km.labels_"
      ],
      "metadata": {
        "colab": {
          "base_uri": "https://localhost:8080/"
        },
        "id": "_HXLRRat2Bzv",
        "outputId": "61f54877-af7c-4989-c387-ff910d625122"
      },
      "execution_count": 41,
      "outputs": [
        {
          "output_type": "execute_result",
          "data": {
            "text/plain": [
              "array([1, 0, 1, 5, 0, 5, 2, 1, 1, 5, 5, 6, 0, 6, 3, 2, 0, 1, 4, 4, 4, 2,\n",
              "       5, 1, 5, 2, 5, 4, 3, 1, 4, 4, 1, 0, 0, 1, 0, 0, 6, 6, 6, 5, 2, 0,\n",
              "       1, 6, 4, 5, 1, 2, 3, 1, 4, 0, 4, 4, 4, 4, 3, 1, 5, 2, 2, 4, 1, 2,\n",
              "       6, 1, 1, 0, 0, 0, 1, 6, 6, 6, 2, 5, 0, 5, 3, 6, 4, 4, 0, 3, 2, 3,\n",
              "       2, 4, 0, 3, 4, 4, 5, 5, 1, 4, 6, 0, 0, 6, 5, 1, 4, 6, 5, 0, 6, 1,\n",
              "       1, 0, 5, 6, 0, 2, 1, 3, 2, 0, 4, 3, 1, 6, 0, 6, 5, 1, 4, 0, 2, 5,\n",
              "       6, 2, 5, 0, 5, 0, 1, 0, 1, 4, 1, 4, 6, 4, 2, 4, 2, 2, 0, 0, 2, 1,\n",
              "       1, 2, 4, 6, 0, 0, 0, 2, 4, 6, 3, 4, 2, 3, 6, 0, 6, 4, 1, 2, 6, 3,\n",
              "       1, 3, 3, 4, 2, 3, 1, 1, 0, 2, 2, 5, 0, 0, 0, 6, 1, 6, 5, 6, 4, 1,\n",
              "       4, 3, 3, 2, 1, 6, 1, 4, 6, 0, 0, 1, 0, 3, 3, 0, 0, 6, 6, 3, 4, 5,\n",
              "       6, 4, 2, 5, 4, 6, 2, 1, 4, 2, 2, 0, 6, 3, 3, 1, 0, 3, 1, 0, 1, 6,\n",
              "       2, 6, 2, 4, 3, 5, 4, 0, 3, 2, 0, 3, 6, 0, 4, 2, 1, 0, 3, 3, 6, 2,\n",
              "       1, 2, 2, 3, 1, 0, 6, 1, 0, 1, 0, 6, 0, 4, 1, 1, 6, 2, 3, 4, 1, 0,\n",
              "       4, 3, 1, 2, 1, 3, 0, 5, 6, 2, 3, 0, 6, 1, 0, 6, 0, 3, 1, 6, 6, 1,\n",
              "       0, 6, 0, 3, 5, 1, 4, 0, 6, 0, 3, 0, 4, 3, 6, 1, 0, 0, 1, 3, 4, 6,\n",
              "       6, 1, 0, 6, 2, 0, 4, 6, 5, 0, 4, 6, 1, 4, 5, 1, 6, 1, 0, 6, 2, 2,\n",
              "       6, 4, 2, 2, 6, 2, 4, 1, 0, 3, 6, 2, 6, 3, 2, 6, 6, 0, 0, 1, 2, 5,\n",
              "       5, 1, 0, 6, 6, 0, 0, 2, 3, 6, 1, 6, 0, 4, 1, 6, 6, 4, 2, 5, 3, 4,\n",
              "       2, 3, 0, 1, 4, 0, 1, 4, 4, 1, 4, 0, 3, 2, 6, 0, 3, 4, 1, 0, 4, 4,\n",
              "       0, 4, 0, 1, 2, 6, 6, 5, 6, 2, 1, 4, 0, 1, 0, 4, 0, 0, 4, 1, 6, 1,\n",
              "       4, 4], dtype=int32)"
            ]
          },
          "metadata": {},
          "execution_count": 41
        }
      ]
    },
    {
      "cell_type": "code",
      "source": [
        "plt.scatter(y[:,0],y[:,-1])\n",
        "plt.scatter(km.cluster_centers_[:,0],km.cluster_centers_[:,1],c='red',marker='X')\n",
        "plt.title(\"Data Points and cluster centroid\")\n",
        "plt.show()"
      ],
      "metadata": {
        "colab": {
          "base_uri": "https://localhost:8080/",
          "height": 362
        },
        "id": "ozQXf5zD4JJ1",
        "outputId": "e1fad9ca-dd26-41bd-aff3-5a89dfb8b6b0"
      },
      "execution_count": 42,
      "outputs": [
        {
          "output_type": "display_data",
          "data": {
            "image/png": "[encoded data removed]",
            "text/plain": [
              "<Figure size 576x396 with 1 Axes>"
            ]
          },
          "metadata": {}
        }
      ]
    },
    {
      "cell_type": "code",
      "source": [
        "from sklearn.metrics import silhouette_score\n",
        "print(silhouette_score(y,km.labels_))"
      ],
      "metadata": {
        "colab": {
          "base_uri": "https://localhost:8080/"
        },
        "id": "z4NcxmEc4kM2",
        "outputId": "d935d061-ea10-4430-8267-2b2935e87853"
      },
      "execution_count": 43,
      "outputs": [
        {
          "output_type": "stream",
          "name": "stdout",
          "text": [
            "0.5744664590313221\n"
          ]
        }
      ]
    },
    {
      "cell_type": "code",
      "source": [
        "from yellowbrick.cluster import KElbowVisualizer\n",
        "model=KMeans(random_state=116)\n",
        "visualizer=KElbowVisualizer(model,k=(2,50),metric='silhouette',timings=False)\n",
        "visualizer.fit(y)\n",
        "visualizer.poof()"
      ],
      "metadata": {
        "colab": {
          "base_uri": "https://localhost:8080/",
          "height": 394
        },
        "id": "iMfZ7OGl433w",
        "outputId": "c83231d8-0820-4d6b-ed0a-a57aba5e113e"
      },
      "execution_count": 44,
      "outputs": [
        {
          "output_type": "display_data",
          "data": {
            "image/png": "[encoded data removed]",
            "text/plain": [
              "<Figure size 576x396 with 1 Axes>"
            ]
          },
          "metadata": {}
        },
        {
          "output_type": "execute_result",
          "data": {
            "text/plain": [
              "<matplotlib.axes._subplots.AxesSubplot at 0x7ff14b82ebd0>"
            ]
          },
          "metadata": {},
          "execution_count": 44
        }
      ]
    }
  ]
}