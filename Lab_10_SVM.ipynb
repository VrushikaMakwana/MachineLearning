{
  "nbformat": 4,
  "nbformat_minor": 0,
  "metadata": {
    "colab": {
      "name": "Lab-10_SVM.ipynb",
      "provenance": [],
      "collapsed_sections": []
    },
    "kernelspec": {
      "name": "python3",
      "display_name": "Python 3"
    },
    "language_info": {
      "name": "python"
    },
    "accelerator": "GPU"
  },
  "cells": [
    {
      "cell_type": "code",
      "execution_count": 33,
      "metadata": {
        "id": "jt0pYJPZTrHr"
      },
      "outputs": [],
      "source": [
        "import matplotlib.pyplot as plt\n",
        "import numpy as np\n",
        "import pandas as pd\n",
        "from sklearn.svm import SVC\n",
        "import sklearn\n",
        "import tensorflow"
      ]
    },
    {
      "cell_type": "code",
      "source": [
        "from tensorflow.keras.datasets import mnist\n",
        "(features_train, targets_train), (features_test, targets_test) = mnist.load_data()"
      ],
      "metadata": {
        "id": "FXpsmPs_U-NB"
      },
      "execution_count": 38,
      "outputs": []
    },
    {
      "cell_type": "code",
      "source": [
        "features_train, features_test = np.array(features_train, np.float32), np.array(features_test, np.float32)\n",
        "features_train = features_train.reshape(-1,784)\n",
        "print(\"Dataset:\",features_train.shape,targets_train.shape)"
      ],
      "metadata": {
        "colab": {
          "base_uri": "https://localhost:8080/"
        },
        "id": "tkENy-JZVfex",
        "outputId": "bff50ac9-df85-4335-d5e7-a1ff8ae2c890"
      },
      "execution_count": 39,
      "outputs": [
        {
          "output_type": "stream",
          "name": "stdout",
          "text": [
            "Dataset: (60000, 784) (60000,)\n"
          ]
        }
      ]
    },
    {
      "cell_type": "code",
      "source": [
        "features_test = features_test.reshape(-1,784)\n",
        "print(\"Scaled Down Test Dataset:\",features_test.shape,targets_test.shape)"
      ],
      "metadata": {
        "colab": {
          "base_uri": "https://localhost:8080/"
        },
        "id": "LR3skPdCWCLh",
        "outputId": "dc32a597-7d36-4f1a-cb6f-f26786624768"
      },
      "execution_count": 40,
      "outputs": [
        {
          "output_type": "stream",
          "name": "stdout",
          "text": [
            "Scaled Down Test Dataset: (10000, 784) (10000,)\n"
          ]
        }
      ]
    },
    {
      "cell_type": "code",
      "source": [
        "features_train = features_train/255.0\n",
        "features_test = features_test/255.0"
      ],
      "metadata": {
        "id": "vkXxm3oFbq_i"
      },
      "execution_count": 41,
      "outputs": []
    },
    {
      "cell_type": "code",
      "source": [
        "from tqdm import tqdm\n",
        "svm = SVC()\n",
        "svm.fit(features_train,targets_train)"
      ],
      "metadata": {
        "colab": {
          "base_uri": "https://localhost:8080/"
        },
        "id": "Q8FRjvi0VXDQ",
        "outputId": "703a234c-dca9-4402-baf7-53caa0d9b91f"
      },
      "execution_count": 42,
      "outputs": [
        {
          "output_type": "execute_result",
          "data": {
            "text/plain": [
              "SVC()"
            ]
          },
          "metadata": {},
          "execution_count": 42
        }
      ]
    },
    {
      "cell_type": "code",
      "source": [
        "svm.score(features_test,targets_test)*100"
      ],
      "metadata": {
        "colab": {
          "base_uri": "https://localhost:8080/"
        },
        "id": "-Bg25aUeV1wR",
        "outputId": "e9568ce5-e5d6-4b66-84b2-0d22007d9cf7"
      },
      "execution_count": 43,
      "outputs": [
        {
          "output_type": "execute_result",
          "data": {
            "text/plain": [
              "97.92"
            ]
          },
          "metadata": {},
          "execution_count": 43
        }
      ]
    }
  ]
}