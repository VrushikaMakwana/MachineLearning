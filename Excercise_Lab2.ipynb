{
  "cells": [
    {
      "cell_type": "markdown",
      "source": [
        "##Import Libraries"
      ],
      "metadata": {
        "id": "f8M_jeT0vHOl"
      }
    },
    {
      "cell_type": "code",
      "execution_count": null,
      "metadata": {
        "id": "zJKD8T6PdAfw"
      },
      "outputs": [],
      "source": [
        "import numpy as np\n",
        "import pandas as pd\n",
        "from sklearn.preprocessing import MinMaxScaler, StandardScaler ,LabelEncoder,OneHotEncoder\n",
        "import seaborn as sns"
      ]
    },
    {
      "cell_type": "markdown",
      "source": [
        "##Load Data"
      ],
      "metadata": {
        "id": "NmIcD9TbvT5J"
      }
    },
    {
      "cell_type": "code",
      "source": [
        "datasets = pd.read_csv('./Exercise-CarData.csv',index_col=0)\n",
        "print(datasets)"
      ],
      "metadata": {
        "colab": {
          "base_uri": "https://localhost:8080/"
        },
        "id": "i8dzv3Yzfw-s",
        "outputId": "6a349a8e-0378-4345-edbe-fa9e20f510cf"
      },
      "execution_count": null,
      "outputs": [
        {
          "output_type": "stream",
          "name": "stdout",
          "text": [
            "      Price   Age     KM FuelType  ... Automatic    CC  Doors  Weight\n",
            "0     13500  23.0  46986   Diesel  ...         0  2000  three    1165\n",
            "1     13750  23.0  72937   Diesel  ...         0  2000      3    1165\n",
            "2     13950  24.0  41711   Diesel  ...         0  2000      3    1165\n",
            "3     14950  26.0  48000   Diesel  ...         0  2000      3    1165\n",
            "4     13750  30.0  38500   Diesel  ...         0  2000      3    1170\n",
            "...     ...   ...    ...      ...  ...       ...   ...    ...     ...\n",
            "1431   7500   NaN  20544   Petrol  ...         0  1300      3    1025\n",
            "1432  10845  72.0     ??   Petrol  ...         0  1300      3    1015\n",
            "1433   8500   NaN  17016   Petrol  ...         0  1300      3    1015\n",
            "1434   7250  70.0     ??      NaN  ...         0  1300      3    1015\n",
            "1435   6950  76.0      1   Petrol  ...         0  1600      5    1114\n",
            "\n",
            "[1436 rows x 10 columns]\n"
          ]
        }
      ]
    },
    {
      "cell_type": "markdown",
      "source": [
        "##Find the missing values and handle it by Imputation"
      ],
      "metadata": {
        "id": "QDLmHL-JvYhC"
      }
    },
    {
      "cell_type": "code",
      "source": [
        "df = datasets;\n",
        "\n",
        "df.dropna(axis=1,how='all',inplace=True)\n",
        "\n",
        "df['Price'] = pd.to_numeric(df.Price.astype(str).str.replace(',',''), errors='coerce')\n",
        "df['Price'] = df['Price'].fillna(df['Price'].mean())\n",
        "\n",
        "df['Age']=df['Age'].fillna(df['Age'].mean())\n",
        "\n",
        "df['KM'] = pd.to_numeric(df.KM.astype(str).str.replace(',',''), errors='coerce')\n",
        "df['KM'] = df['KM'].fillna(df['KM'].mean())\n",
        "\n",
        "#df['FuelType'] = df['FuelType'].fillna('Petrol')\n",
        "\n",
        "df['HP'] = pd.to_numeric(df.HP.astype(str).str.replace(',',''), errors='coerce').fillna(90).astype(int)\n",
        "\n",
        "df['MetColor'] = pd.to_numeric(df.MetColor.astype(str).str.replace(',',''), errors='coerce').fillna(1).astype(int)\n",
        "\n",
        "df['Automatic'] = pd.to_numeric(df.Automatic.astype(str).str.replace(',',''), errors='coerce').fillna(0).astype(int)\n",
        "\n",
        "df['CC'] = pd.to_numeric(df.CC.astype(str).str.replace(',',''), errors='coerce')\n",
        "df['CC'] = df['CC'].fillna(df['CC'].mean())\n",
        "\n",
        "df['Doors'] = pd.to_numeric(df.Doors.astype(str).str.replace(',',''), errors='coerce').fillna(4).astype(int)\n",
        "\n",
        "df['Weight'] = pd.to_numeric(df.Weight.astype(str).str.replace(',',''), errors='coerce')\n",
        "df['Weight'] = df['Weight'].fillna(df['Weight'].mean())\n",
        "\n",
        "\n",
        "\n",
        "df"
      ],
      "metadata": {
        "colab": {
          "base_uri": "https://localhost:8080/",
          "height": 424
        },
        "id": "MCOt-BLelprh",
        "outputId": "23b3e2dc-077a-427c-a023-29cf9bf45cfb"
      },
      "execution_count": null,
      "outputs": [
        {
          "output_type": "execute_result",
          "data": {
            "text/html": [
              "<div>\n",
              "<style scoped>\n",
              "    .dataframe tbody tr th:only-of-type {\n",
              "        vertical-align: middle;\n",
              "    }\n",
              "\n",
              "    .dataframe tbody tr th {\n",
              "        vertical-align: top;\n",
              "    }\n",
              "\n",
              "    .dataframe thead th {\n",
              "        text-align: right;\n",
              "    }\n",
              "</style>\n",
              "<table border=\"1\" class=\"dataframe\">\n",
              "  <thead>\n",
              "    <tr style=\"text-align: right;\">\n",
              "      <th></th>\n",
              "      <th>Price</th>\n",
              "      <th>Age</th>\n",
              "      <th>KM</th>\n",
              "      <th>FuelType</th>\n",
              "      <th>HP</th>\n",
              "      <th>MetColor</th>\n",
              "      <th>Automatic</th>\n",
              "      <th>CC</th>\n",
              "      <th>Doors</th>\n",
              "      <th>Weight</th>\n",
              "    </tr>\n",
              "  </thead>\n",
              "  <tbody>\n",
              "    <tr>\n",
              "      <th>0</th>\n",
              "      <td>13500</td>\n",
              "      <td>23.000000</td>\n",
              "      <td>46986.000000</td>\n",
              "      <td>Diesel</td>\n",
              "      <td>90</td>\n",
              "      <td>1</td>\n",
              "      <td>0</td>\n",
              "      <td>2000</td>\n",
              "      <td>4</td>\n",
              "      <td>1165</td>\n",
              "    </tr>\n",
              "    <tr>\n",
              "      <th>1</th>\n",
              "      <td>13750</td>\n",
              "      <td>23.000000</td>\n",
              "      <td>72937.000000</td>\n",
              "      <td>Diesel</td>\n",
              "      <td>90</td>\n",
              "      <td>1</td>\n",
              "      <td>0</td>\n",
              "      <td>2000</td>\n",
              "      <td>3</td>\n",
              "      <td>1165</td>\n",
              "    </tr>\n",
              "    <tr>\n",
              "      <th>2</th>\n",
              "      <td>13950</td>\n",
              "      <td>24.000000</td>\n",
              "      <td>41711.000000</td>\n",
              "      <td>Diesel</td>\n",
              "      <td>90</td>\n",
              "      <td>1</td>\n",
              "      <td>0</td>\n",
              "      <td>2000</td>\n",
              "      <td>3</td>\n",
              "      <td>1165</td>\n",
              "    </tr>\n",
              "    <tr>\n",
              "      <th>3</th>\n",
              "      <td>14950</td>\n",
              "      <td>26.000000</td>\n",
              "      <td>48000.000000</td>\n",
              "      <td>Diesel</td>\n",
              "      <td>90</td>\n",
              "      <td>0</td>\n",
              "      <td>0</td>\n",
              "      <td>2000</td>\n",
              "      <td>3</td>\n",
              "      <td>1165</td>\n",
              "    </tr>\n",
              "    <tr>\n",
              "      <th>4</th>\n",
              "      <td>13750</td>\n",
              "      <td>30.000000</td>\n",
              "      <td>38500.000000</td>\n",
              "      <td>Diesel</td>\n",
              "      <td>90</td>\n",
              "      <td>0</td>\n",
              "      <td>0</td>\n",
              "      <td>2000</td>\n",
              "      <td>3</td>\n",
              "      <td>1170</td>\n",
              "    </tr>\n",
              "    <tr>\n",
              "      <th>...</th>\n",
              "      <td>...</td>\n",
              "      <td>...</td>\n",
              "      <td>...</td>\n",
              "      <td>...</td>\n",
              "      <td>...</td>\n",
              "      <td>...</td>\n",
              "      <td>...</td>\n",
              "      <td>...</td>\n",
              "      <td>...</td>\n",
              "      <td>...</td>\n",
              "    </tr>\n",
              "    <tr>\n",
              "      <th>1431</th>\n",
              "      <td>7500</td>\n",
              "      <td>55.672156</td>\n",
              "      <td>20544.000000</td>\n",
              "      <td>Petrol</td>\n",
              "      <td>86</td>\n",
              "      <td>1</td>\n",
              "      <td>0</td>\n",
              "      <td>1300</td>\n",
              "      <td>3</td>\n",
              "      <td>1025</td>\n",
              "    </tr>\n",
              "    <tr>\n",
              "      <th>1432</th>\n",
              "      <td>10845</td>\n",
              "      <td>72.000000</td>\n",
              "      <td>68647.239972</td>\n",
              "      <td>Petrol</td>\n",
              "      <td>86</td>\n",
              "      <td>0</td>\n",
              "      <td>0</td>\n",
              "      <td>1300</td>\n",
              "      <td>3</td>\n",
              "      <td>1015</td>\n",
              "    </tr>\n",
              "    <tr>\n",
              "      <th>1433</th>\n",
              "      <td>8500</td>\n",
              "      <td>55.672156</td>\n",
              "      <td>17016.000000</td>\n",
              "      <td>Petrol</td>\n",
              "      <td>86</td>\n",
              "      <td>0</td>\n",
              "      <td>0</td>\n",
              "      <td>1300</td>\n",
              "      <td>3</td>\n",
              "      <td>1015</td>\n",
              "    </tr>\n",
              "    <tr>\n",
              "      <th>1434</th>\n",
              "      <td>7250</td>\n",
              "      <td>70.000000</td>\n",
              "      <td>68647.239972</td>\n",
              "      <td>NaN</td>\n",
              "      <td>86</td>\n",
              "      <td>1</td>\n",
              "      <td>0</td>\n",
              "      <td>1300</td>\n",
              "      <td>3</td>\n",
              "      <td>1015</td>\n",
              "    </tr>\n",
              "    <tr>\n",
              "      <th>1435</th>\n",
              "      <td>6950</td>\n",
              "      <td>76.000000</td>\n",
              "      <td>1.000000</td>\n",
              "      <td>Petrol</td>\n",
              "      <td>110</td>\n",
              "      <td>0</td>\n",
              "      <td>0</td>\n",
              "      <td>1600</td>\n",
              "      <td>5</td>\n",
              "      <td>1114</td>\n",
              "    </tr>\n",
              "  </tbody>\n",
              "</table>\n",
              "<p>1436 rows × 10 columns</p>\n",
              "</div>"
            ],
            "text/plain": [
              "      Price        Age            KM FuelType  ...  Automatic    CC  Doors  Weight\n",
              "0     13500  23.000000  46986.000000   Diesel  ...          0  2000      4    1165\n",
              "1     13750  23.000000  72937.000000   Diesel  ...          0  2000      3    1165\n",
              "2     13950  24.000000  41711.000000   Diesel  ...          0  2000      3    1165\n",
              "3     14950  26.000000  48000.000000   Diesel  ...          0  2000      3    1165\n",
              "4     13750  30.000000  38500.000000   Diesel  ...          0  2000      3    1170\n",
              "...     ...        ...           ...      ...  ...        ...   ...    ...     ...\n",
              "1431   7500  55.672156  20544.000000   Petrol  ...          0  1300      3    1025\n",
              "1432  10845  72.000000  68647.239972   Petrol  ...          0  1300      3    1015\n",
              "1433   8500  55.672156  17016.000000   Petrol  ...          0  1300      3    1015\n",
              "1434   7250  70.000000  68647.239972      NaN  ...          0  1300      3    1015\n",
              "1435   6950  76.000000      1.000000   Petrol  ...          0  1600      5    1114\n",
              "\n",
              "[1436 rows x 10 columns]"
            ]
          },
          "metadata": {},
          "execution_count": 63
        }
      ]
    },
    {
      "cell_type": "markdown",
      "source": [
        "##Use dummy variables from pandas library to create one column for each FuelType "
      ],
      "metadata": {
        "id": "GFyMT0KszK7F"
      }
    },
    {
      "cell_type": "code",
      "source": [
        "\n",
        "dummy = pd.get_dummies(df['FuelType'])\n",
        "print(\"\\n\\nDummy :\\n\",dummy)\n",
        "df = df.drop(['FuelType'],axis=1)\n",
        "df = pd.concat([dummy,df],axis=1)\n",
        "print(\"\\n\\nFinal Data :\\n\",df)"
      ],
      "metadata": {
        "colab": {
          "base_uri": "https://localhost:8080/"
        },
        "id": "qPpChTRNzOa1",
        "outputId": "60bf346c-4de2-403d-a1ca-468bc452c0a3"
      },
      "execution_count": null,
      "outputs": [
        {
          "output_type": "stream",
          "name": "stdout",
          "text": [
            "\n",
            "\n",
            "Dummy :\n",
            "       CNG  Diesel  Petrol\n",
            "0       0       1       0\n",
            "1       0       1       0\n",
            "2       0       1       0\n",
            "3       0       1       0\n",
            "4       0       1       0\n",
            "...   ...     ...     ...\n",
            "1431    0       0       1\n",
            "1432    0       0       1\n",
            "1433    0       0       1\n",
            "1434    0       0       0\n",
            "1435    0       0       1\n",
            "\n",
            "[1436 rows x 3 columns]\n",
            "\n",
            "\n",
            "Final Data :\n",
            "       CNG  Diesel  Petrol  Price  ...  Automatic    CC  Doors  Weight\n",
            "0       0       1       0  13500  ...          0  2000      4    1165\n",
            "1       0       1       0  13750  ...          0  2000      3    1165\n",
            "2       0       1       0  13950  ...          0  2000      3    1165\n",
            "3       0       1       0  14950  ...          0  2000      3    1165\n",
            "4       0       1       0  13750  ...          0  2000      3    1170\n",
            "...   ...     ...     ...    ...  ...        ...   ...    ...     ...\n",
            "1431    0       0       1   7500  ...          0  1300      3    1025\n",
            "1432    0       0       1  10845  ...          0  1300      3    1015\n",
            "1433    0       0       1   8500  ...          0  1300      3    1015\n",
            "1434    0       0       0   7250  ...          0  1300      3    1015\n",
            "1435    0       0       1   6950  ...          0  1600      5    1114\n",
            "\n",
            "[1436 rows x 12 columns]\n"
          ]
        }
      ]
    },
    {
      "cell_type": "markdown",
      "source": [
        "##Seprate Input and Output attributes"
      ],
      "metadata": {
        "id": "0hXdOiONvm0Z"
      }
    },
    {
      "cell_type": "code",
      "source": [
        "X = df.loc[:,df.columns != \"Price\"]\n",
        "\n",
        "Y = df[\"Price\"].values\n",
        "\n",
        "X_new = X.iloc[:,1:].values\n",
        "X = X.values\n",
        "X_new\n",
        "# print(X_new)"
      ],
      "metadata": {
        "colab": {
          "base_uri": "https://localhost:8080/"
        },
        "id": "-wBbXlrJgEaI",
        "outputId": "071621ed-94df-4ff8-a6e4-b1dc0908a7d7"
      },
      "execution_count": null,
      "outputs": [
        {
          "output_type": "execute_result",
          "data": {
            "text/plain": [
              "array([[1.00000000e+00, 0.00000000e+00, 2.30000000e+01, ...,\n",
              "        2.00000000e+03, 4.00000000e+00, 1.16500000e+03],\n",
              "       [1.00000000e+00, 0.00000000e+00, 2.30000000e+01, ...,\n",
              "        2.00000000e+03, 3.00000000e+00, 1.16500000e+03],\n",
              "       [1.00000000e+00, 0.00000000e+00, 2.40000000e+01, ...,\n",
              "        2.00000000e+03, 3.00000000e+00, 1.16500000e+03],\n",
              "       ...,\n",
              "       [0.00000000e+00, 1.00000000e+00, 5.56721557e+01, ...,\n",
              "        1.30000000e+03, 3.00000000e+00, 1.01500000e+03],\n",
              "       [0.00000000e+00, 0.00000000e+00, 7.00000000e+01, ...,\n",
              "        1.30000000e+03, 3.00000000e+00, 1.01500000e+03],\n",
              "       [0.00000000e+00, 1.00000000e+00, 7.60000000e+01, ...,\n",
              "        1.60000000e+03, 5.00000000e+00, 1.11400000e+03]])"
            ]
          },
          "metadata": {},
          "execution_count": 67
        }
      ]
    },
    {
      "cell_type": "markdown",
      "source": [
        "##Perform scaling (Min-Max Normalization)"
      ],
      "metadata": {
        "id": "cGmuYLPOvq3e"
      }
    },
    {
      "cell_type": "code",
      "source": [
        "scaler = MinMaxScaler()\n",
        "X_scaled = scaler.fit_transform(X_new)\n",
        "print(\"\\n\\nScaled X : \\n\", X_scaled)"
      ],
      "metadata": {
        "id": "M9Af3_HriLuj",
        "colab": {
          "base_uri": "https://localhost:8080/"
        },
        "outputId": "5849be20-b819-4673-e434-4347a1891c5e"
      },
      "execution_count": null,
      "outputs": [
        {
          "output_type": "stream",
          "name": "stdout",
          "text": [
            "\n",
            "\n",
            "Scaled X : \n",
            " [[1.         0.         0.27848101 ... 1.         0.66666667 0.26829268]\n",
            " [1.         0.         0.27848101 ... 1.         0.33333333 0.26829268]\n",
            " [1.         0.         0.29113924 ... 1.         0.33333333 0.26829268]\n",
            " ...\n",
            " [0.         1.         0.6920526  ... 0.         0.33333333 0.02439024]\n",
            " [0.         0.         0.87341772 ... 0.         0.33333333 0.02439024]\n",
            " [0.         1.         0.94936709 ... 0.42857143 1.         0.18536585]]\n"
          ]
        }
      ]
    },
    {
      "cell_type": "markdown",
      "source": [
        "##Perform Standardization"
      ],
      "metadata": {
        "id": "wmRo4h_Bvsa6"
      }
    },
    {
      "cell_type": "code",
      "source": [
        "std = StandardScaler()\n",
        "X_std = std.fit_transform(X_new)\n",
        "print(X_std)"
      ],
      "metadata": {
        "id": "pyxsqthUjY0U",
        "colab": {
          "base_uri": "https://localhost:8080/"
        },
        "outputId": "a1400c89-ddf1-4ea1-b471-8368629c1dd9"
      },
      "execution_count": null,
      "outputs": [
        {
          "output_type": "stream",
          "name": "stdout",
          "text": [
            "[[ 2.99536679 -2.1317602  -1.82280225 ...  2.31497633 -0.0351258\n",
            "   1.75856113]\n",
            " [ 2.99536679 -2.1317602  -1.82280225 ...  2.31497633 -1.08597279\n",
            "   1.75856113]\n",
            " [ 2.99536679 -2.1317602  -1.76701156 ...  2.31497633 -1.08597279\n",
            "   1.75856113]\n",
            " ...\n",
            " [-0.33384893  0.46909591  0.         ... -1.42599356 -1.08597279\n",
            "  -1.09191497]\n",
            " [-0.33384893 -2.1317602   0.79936038 ... -1.42599356 -1.08597279\n",
            "  -1.09191497]\n",
            " [-0.33384893  0.46909591  1.13410455 ...  0.17727925  1.01572118\n",
            "   0.78939926]]\n"
          ]
        }
      ]
    },
    {
      "cell_type": "markdown",
      "source": [
        "##Selecting features based on correlation"
      ],
      "metadata": {
        "id": "udwl-Q5d47aI"
      }
    },
    {
      "cell_type": "markdown",
      "source": [
        "###Generating the correlation matrix"
      ],
      "metadata": {
        "id": "xLxm1h7d4_0n"
      }
    },
    {
      "cell_type": "code",
      "source": [
        "corr = df.corr()\n",
        "corr.head()"
      ],
      "metadata": {
        "colab": {
          "base_uri": "https://localhost:8080/",
          "height": 206
        },
        "id": "jS22XSru1rja",
        "outputId": "3fcde761-4eaa-4b9a-e652-55e233eec1b4"
      },
      "execution_count": null,
      "outputs": [
        {
          "output_type": "execute_result",
          "data": {
            "text/html": [
              "<div>\n",
              "<style scoped>\n",
              "    .dataframe tbody tr th:only-of-type {\n",
              "        vertical-align: middle;\n",
              "    }\n",
              "\n",
              "    .dataframe tbody tr th {\n",
              "        vertical-align: top;\n",
              "    }\n",
              "\n",
              "    .dataframe thead th {\n",
              "        text-align: right;\n",
              "    }\n",
              "</style>\n",
              "<table border=\"1\" class=\"dataframe\">\n",
              "  <thead>\n",
              "    <tr style=\"text-align: right;\">\n",
              "      <th></th>\n",
              "      <th>CNG</th>\n",
              "      <th>Diesel</th>\n",
              "      <th>Petrol</th>\n",
              "      <th>Price</th>\n",
              "      <th>Age</th>\n",
              "      <th>KM</th>\n",
              "      <th>HP</th>\n",
              "      <th>MetColor</th>\n",
              "      <th>Automatic</th>\n",
              "      <th>CC</th>\n",
              "      <th>Doors</th>\n",
              "      <th>Weight</th>\n",
              "    </tr>\n",
              "  </thead>\n",
              "  <tbody>\n",
              "    <tr>\n",
              "      <th>CNG</th>\n",
              "      <td>1.000000</td>\n",
              "      <td>-0.034300</td>\n",
              "      <td>-0.219022</td>\n",
              "      <td>-0.032498</td>\n",
              "      <td>0.006722</td>\n",
              "      <td>0.145203</td>\n",
              "      <td>0.059689</td>\n",
              "      <td>0.005523</td>\n",
              "      <td>-0.024955</td>\n",
              "      <td>0.018141</td>\n",
              "      <td>0.017984</td>\n",
              "      <td>0.051688</td>\n",
              "    </tr>\n",
              "    <tr>\n",
              "      <th>Diesel</th>\n",
              "      <td>-0.034300</td>\n",
              "      <td>1.000000</td>\n",
              "      <td>-0.711686</td>\n",
              "      <td>0.014590</td>\n",
              "      <td>-0.068693</td>\n",
              "      <td>0.404627</td>\n",
              "      <td>-0.524003</td>\n",
              "      <td>-0.010634</td>\n",
              "      <td>-0.081090</td>\n",
              "      <td>0.730292</td>\n",
              "      <td>0.012636</td>\n",
              "      <td>0.516471</td>\n",
              "    </tr>\n",
              "    <tr>\n",
              "      <th>Petrol</th>\n",
              "      <td>-0.219022</td>\n",
              "      <td>-0.711686</td>\n",
              "      <td>1.000000</td>\n",
              "      <td>-0.024046</td>\n",
              "      <td>0.062043</td>\n",
              "      <td>-0.323775</td>\n",
              "      <td>0.407704</td>\n",
              "      <td>-0.013522</td>\n",
              "      <td>0.058664</td>\n",
              "      <td>-0.561913</td>\n",
              "      <td>-0.010168</td>\n",
              "      <td>-0.425511</td>\n",
              "    </tr>\n",
              "    <tr>\n",
              "      <th>Price</th>\n",
              "      <td>-0.032498</td>\n",
              "      <td>0.014590</td>\n",
              "      <td>-0.024046</td>\n",
              "      <td>1.000000</td>\n",
              "      <td>-0.845111</td>\n",
              "      <td>-0.565016</td>\n",
              "      <td>0.305805</td>\n",
              "      <td>0.100920</td>\n",
              "      <td>0.033081</td>\n",
              "      <td>0.165067</td>\n",
              "      <td>0.185579</td>\n",
              "      <td>0.581198</td>\n",
              "    </tr>\n",
              "    <tr>\n",
              "      <th>Age</th>\n",
              "      <td>0.006722</td>\n",
              "      <td>-0.068693</td>\n",
              "      <td>0.062043</td>\n",
              "      <td>-0.845111</td>\n",
              "      <td>1.000000</td>\n",
              "      <td>0.495199</td>\n",
              "      <td>-0.151301</td>\n",
              "      <td>-0.084719</td>\n",
              "      <td>0.030931</td>\n",
              "      <td>-0.116255</td>\n",
              "      <td>-0.152555</td>\n",
              "      <td>-0.442055</td>\n",
              "    </tr>\n",
              "  </tbody>\n",
              "</table>\n",
              "</div>"
            ],
            "text/plain": [
              "             CNG    Diesel    Petrol  ...        CC     Doors    Weight\n",
              "CNG     1.000000 -0.034300 -0.219022  ...  0.018141  0.017984  0.051688\n",
              "Diesel -0.034300  1.000000 -0.711686  ...  0.730292  0.012636  0.516471\n",
              "Petrol -0.219022 -0.711686  1.000000  ... -0.561913 -0.010168 -0.425511\n",
              "Price  -0.032498  0.014590 -0.024046  ...  0.165067  0.185579  0.581198\n",
              "Age     0.006722 -0.068693  0.062043  ... -0.116255 -0.152555 -0.442055\n",
              "\n",
              "[5 rows x 12 columns]"
            ]
          },
          "metadata": {},
          "execution_count": 73
        }
      ]
    },
    {
      "cell_type": "markdown",
      "source": [
        "###Generating the correlation heatmap"
      ],
      "metadata": {
        "id": "KUEHCDIP5VTJ"
      }
    },
    {
      "cell_type": "code",
      "source": [
        "sns.heatmap(corr)"
      ],
      "metadata": {
        "colab": {
          "base_uri": "https://localhost:8080/",
          "height": 328
        },
        "id": "ebEADEz05FMW",
        "outputId": "e8d71cbf-4dd9-4989-d988-d746bdf2b51d"
      },
      "execution_count": null,
      "outputs": [
        {
          "output_type": "execute_result",
          "data": {
            "text/plain": [
              "<matplotlib.axes._subplots.AxesSubplot at 0x7f4a360d3e50>"
            ]
          },
          "metadata": {},
          "execution_count": 74
        },
        {
          "output_type": "display_data",
          "data": {
            "image/png": "[encoded data removed]",
            "text/plain": [
              "<Figure size 432x288 with 2 Axes>"
            ]
          },
          "metadata": {
            "needs_background": "light"
          }
        }
      ]
    },
    {
      "cell_type": "markdown",
      "source": [
        "###Next, we compare the correlation between features and remove one of two features that have a correlation higher than 0.9"
      ],
      "metadata": {
        "id": "WxVea51k6lgO"
      }
    },
    {
      "cell_type": "code",
      "source": [
        "columns = np.full((corr.shape[0],), True, dtype=bool)\n",
        "for i in range(corr.shape[0]):\n",
        "    for j in range(i+1, corr.shape[0]):\n",
        "        if corr.iloc[i,j] >= 0.9:\n",
        "            if columns[j]:\n",
        "                columns[j] = False"
      ],
      "metadata": {
        "id": "UCDisXgu5aGg"
      },
      "execution_count": null,
      "outputs": []
    },
    {
      "cell_type": "code",
      "source": [
        "selected_columns = df.columns[columns]\n",
        "selected_columns.shape"
      ],
      "metadata": {
        "colab": {
          "base_uri": "https://localhost:8080/"
        },
        "id": "TOhyRxnt7gD_",
        "outputId": "9a72bbfd-4c36-4880-e098-23905ab8f7e1"
      },
      "execution_count": null,
      "outputs": [
        {
          "output_type": "execute_result",
          "data": {
            "text/plain": [
              "(12,)"
            ]
          },
          "metadata": {},
          "execution_count": 77
        }
      ]
    },
    {
      "cell_type": "code",
      "source": [
        "df = df[selected_columns]\n",
        "df"
      ],
      "metadata": {
        "colab": {
          "base_uri": "https://localhost:8080/",
          "height": 424
        },
        "id": "KmR8IO7d7jHY",
        "outputId": "a622ea40-f119-45bb-84e1-89ce27f99208"
      },
      "execution_count": null,
      "outputs": [
        {
          "output_type": "execute_result",
          "data": {
            "text/html": [
              "<div>\n",
              "<style scoped>\n",
              "    .dataframe tbody tr th:only-of-type {\n",
              "        vertical-align: middle;\n",
              "    }\n",
              "\n",
              "    .dataframe tbody tr th {\n",
              "        vertical-align: top;\n",
              "    }\n",
              "\n",
              "    .dataframe thead th {\n",
              "        text-align: right;\n",
              "    }\n",
              "</style>\n",
              "<table border=\"1\" class=\"dataframe\">\n",
              "  <thead>\n",
              "    <tr style=\"text-align: right;\">\n",
              "      <th></th>\n",
              "      <th>CNG</th>\n",
              "      <th>Diesel</th>\n",
              "      <th>Petrol</th>\n",
              "      <th>Price</th>\n",
              "      <th>Age</th>\n",
              "      <th>KM</th>\n",
              "      <th>HP</th>\n",
              "      <th>MetColor</th>\n",
              "      <th>Automatic</th>\n",
              "      <th>CC</th>\n",
              "      <th>Doors</th>\n",
              "      <th>Weight</th>\n",
              "    </tr>\n",
              "  </thead>\n",
              "  <tbody>\n",
              "    <tr>\n",
              "      <th>0</th>\n",
              "      <td>0</td>\n",
              "      <td>1</td>\n",
              "      <td>0</td>\n",
              "      <td>13500</td>\n",
              "      <td>23.000000</td>\n",
              "      <td>46986.000000</td>\n",
              "      <td>90</td>\n",
              "      <td>1</td>\n",
              "      <td>0</td>\n",
              "      <td>2000</td>\n",
              "      <td>4</td>\n",
              "      <td>1165</td>\n",
              "    </tr>\n",
              "    <tr>\n",
              "      <th>1</th>\n",
              "      <td>0</td>\n",
              "      <td>1</td>\n",
              "      <td>0</td>\n",
              "      <td>13750</td>\n",
              "      <td>23.000000</td>\n",
              "      <td>72937.000000</td>\n",
              "      <td>90</td>\n",
              "      <td>1</td>\n",
              "      <td>0</td>\n",
              "      <td>2000</td>\n",
              "      <td>3</td>\n",
              "      <td>1165</td>\n",
              "    </tr>\n",
              "    <tr>\n",
              "      <th>2</th>\n",
              "      <td>0</td>\n",
              "      <td>1</td>\n",
              "      <td>0</td>\n",
              "      <td>13950</td>\n",
              "      <td>24.000000</td>\n",
              "      <td>41711.000000</td>\n",
              "      <td>90</td>\n",
              "      <td>1</td>\n",
              "      <td>0</td>\n",
              "      <td>2000</td>\n",
              "      <td>3</td>\n",
              "      <td>1165</td>\n",
              "    </tr>\n",
              "    <tr>\n",
              "      <th>3</th>\n",
              "      <td>0</td>\n",
              "      <td>1</td>\n",
              "      <td>0</td>\n",
              "      <td>14950</td>\n",
              "      <td>26.000000</td>\n",
              "      <td>48000.000000</td>\n",
              "      <td>90</td>\n",
              "      <td>0</td>\n",
              "      <td>0</td>\n",
              "      <td>2000</td>\n",
              "      <td>3</td>\n",
              "      <td>1165</td>\n",
              "    </tr>\n",
              "    <tr>\n",
              "      <th>4</th>\n",
              "      <td>0</td>\n",
              "      <td>1</td>\n",
              "      <td>0</td>\n",
              "      <td>13750</td>\n",
              "      <td>30.000000</td>\n",
              "      <td>38500.000000</td>\n",
              "      <td>90</td>\n",
              "      <td>0</td>\n",
              "      <td>0</td>\n",
              "      <td>2000</td>\n",
              "      <td>3</td>\n",
              "      <td>1170</td>\n",
              "    </tr>\n",
              "    <tr>\n",
              "      <th>...</th>\n",
              "      <td>...</td>\n",
              "      <td>...</td>\n",
              "      <td>...</td>\n",
              "      <td>...</td>\n",
              "      <td>...</td>\n",
              "      <td>...</td>\n",
              "      <td>...</td>\n",
              "      <td>...</td>\n",
              "      <td>...</td>\n",
              "      <td>...</td>\n",
              "      <td>...</td>\n",
              "      <td>...</td>\n",
              "    </tr>\n",
              "    <tr>\n",
              "      <th>1431</th>\n",
              "      <td>0</td>\n",
              "      <td>0</td>\n",
              "      <td>1</td>\n",
              "      <td>7500</td>\n",
              "      <td>55.672156</td>\n",
              "      <td>20544.000000</td>\n",
              "      <td>86</td>\n",
              "      <td>1</td>\n",
              "      <td>0</td>\n",
              "      <td>1300</td>\n",
              "      <td>3</td>\n",
              "      <td>1025</td>\n",
              "    </tr>\n",
              "    <tr>\n",
              "      <th>1432</th>\n",
              "      <td>0</td>\n",
              "      <td>0</td>\n",
              "      <td>1</td>\n",
              "      <td>10845</td>\n",
              "      <td>72.000000</td>\n",
              "      <td>68647.239972</td>\n",
              "      <td>86</td>\n",
              "      <td>0</td>\n",
              "      <td>0</td>\n",
              "      <td>1300</td>\n",
              "      <td>3</td>\n",
              "      <td>1015</td>\n",
              "    </tr>\n",
              "    <tr>\n",
              "      <th>1433</th>\n",
              "      <td>0</td>\n",
              "      <td>0</td>\n",
              "      <td>1</td>\n",
              "      <td>8500</td>\n",
              "      <td>55.672156</td>\n",
              "      <td>17016.000000</td>\n",
              "      <td>86</td>\n",
              "      <td>0</td>\n",
              "      <td>0</td>\n",
              "      <td>1300</td>\n",
              "      <td>3</td>\n",
              "      <td>1015</td>\n",
              "    </tr>\n",
              "    <tr>\n",
              "      <th>1434</th>\n",
              "      <td>0</td>\n",
              "      <td>0</td>\n",
              "      <td>0</td>\n",
              "      <td>7250</td>\n",
              "      <td>70.000000</td>\n",
              "      <td>68647.239972</td>\n",
              "      <td>86</td>\n",
              "      <td>1</td>\n",
              "      <td>0</td>\n",
              "      <td>1300</td>\n",
              "      <td>3</td>\n",
              "      <td>1015</td>\n",
              "    </tr>\n",
              "    <tr>\n",
              "      <th>1435</th>\n",
              "      <td>0</td>\n",
              "      <td>0</td>\n",
              "      <td>1</td>\n",
              "      <td>6950</td>\n",
              "      <td>76.000000</td>\n",
              "      <td>1.000000</td>\n",
              "      <td>110</td>\n",
              "      <td>0</td>\n",
              "      <td>0</td>\n",
              "      <td>1600</td>\n",
              "      <td>5</td>\n",
              "      <td>1114</td>\n",
              "    </tr>\n",
              "  </tbody>\n",
              "</table>\n",
              "<p>1436 rows × 12 columns</p>\n",
              "</div>"
            ],
            "text/plain": [
              "      CNG  Diesel  Petrol  Price  ...  Automatic    CC  Doors  Weight\n",
              "0       0       1       0  13500  ...          0  2000      4    1165\n",
              "1       0       1       0  13750  ...          0  2000      3    1165\n",
              "2       0       1       0  13950  ...          0  2000      3    1165\n",
              "3       0       1       0  14950  ...          0  2000      3    1165\n",
              "4       0       1       0  13750  ...          0  2000      3    1170\n",
              "...   ...     ...     ...    ...  ...        ...   ...    ...     ...\n",
              "1431    0       0       1   7500  ...          0  1300      3    1025\n",
              "1432    0       0       1  10845  ...          0  1300      3    1015\n",
              "1433    0       0       1   8500  ...          0  1300      3    1015\n",
              "1434    0       0       0   7250  ...          0  1300      3    1015\n",
              "1435    0       0       1   6950  ...          0  1600      5    1114\n",
              "\n",
              "[1436 rows x 12 columns]"
            ]
          },
          "metadata": {},
          "execution_count": 79
        }
      ]
    }
  ],
  "metadata": {
    "colab": {
      "name": "Excercise.ipynb",
      "provenance": [],
      "collapsed_sections": []
    },
    "kernelspec": {
      "display_name": "Python 3",
      "name": "python3"
    },
    "language_info": {
      "codemirror_mode": {
        "name": "ipython",
        "version": 3
      },
      "file_extension": ".py",
      "mimetype": "text/x-python",
      "name": "python",
      "nbconvert_exporter": "python",
      "pygments_lexer": "ipython3",
      "version": "3.10.1"
    }
  },
  "nbformat": 4,
  "nbformat_minor": 0
}