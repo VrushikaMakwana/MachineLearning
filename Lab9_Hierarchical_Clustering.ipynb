{
  "nbformat": 4,
  "nbformat_minor": 0,
  "metadata": {
    "colab": {
      "name": "Lab9_Hierarchical_Clustering.ipynb",
      "provenance": [],
      "collapsed_sections": []
    },
    "kernelspec": {
      "name": "python3",
      "display_name": "Python 3"
    },
    "language_info": {
      "name": "python"
    }
  },
  "cells": [
    {
      "cell_type": "markdown",
      "source": [
        "**IRIS DATASET**"
      ],
      "metadata": {
        "id": "vPDhQEyv5kHT"
      }
    },
    {
      "cell_type": "code",
      "source": [
        "import numpy as np\n",
        "from sklearn import datasets\n",
        "import matplotlib.pyplot as plt\n",
        "import seaborn as sb"
      ],
      "metadata": {
        "id": "TUvOHd6Y5os0"
      },
      "execution_count": 2,
      "outputs": []
    },
    {
      "cell_type": "code",
      "source": [
        "iris=datasets.load_iris()\n",
        "iris"
      ],
      "metadata": {
        "colab": {
          "base_uri": "https://localhost:8080/"
        },
        "id": "DVTH2nUu6R73",
        "outputId": "8bd1014e-8fee-492e-b09b-e3ad43f4c625"
      },
      "execution_count": 3,
      "outputs": [
        {
          "output_type": "execute_result",
          "data": {
            "text/plain": [
              "{'DESCR': '.. _iris_dataset:\\n\\nIris plants dataset\\n--------------------\\n\\n**Data Set Characteristics:**\\n\\n    :Number of Instances: 150 (50 in each of three classes)\\n    :Number of Attributes: 4 numeric, predictive attributes and the class\\n    :Attribute Information:\\n        - sepal length in cm\\n        - sepal width in cm\\n        - petal length in cm\\n        - petal width in cm\\n        - class:\\n                - Iris-Setosa\\n                - Iris-Versicolour\\n                - Iris-Virginica\\n                \\n    :Summary Statistics:\\n\\n    ============== ==== ==== ======= ===== ====================\\n                    Min  Max   Mean    SD   Class Correlation\\n    ============== ==== ==== ======= ===== ====================\\n    sepal length:   4.3  7.9   5.84   0.83    0.7826\\n    sepal width:    2.0  4.4   3.05   0.43   -0.4194\\n    petal length:   1.0  6.9   3.76   1.76    0.9490  (high!)\\n    petal width:    0.1  2.5   1.20   0.76    0.9565  (high!)\\n    ============== ==== ==== ======= ===== ====================\\n\\n    :Missing Attribute Values: None\\n    :Class Distribution: 33.3% for each of 3 classes.\\n    :Creator: R.A. Fisher\\n    :Donor: Michael Marshall (MARSHALL%PLU@io.arc.nasa.gov)\\n    :Date: July, 1988\\n\\nThe famous Iris database, first used by Sir R.A. Fisher. The dataset is taken\\nfrom Fisher\\'s paper. Note that it\\'s the same as in R, but not as in the UCI\\nMachine Learning Repository, which has two wrong data points.\\n\\nThis is perhaps the best known database to be found in the\\npattern recognition literature.  Fisher\\'s paper is a classic in the field and\\nis referenced frequently to this day.  (See Duda & Hart, for example.)  The\\ndata set contains 3 classes of 50 instances each, where each class refers to a\\ntype of iris plant.  One class is linearly separable from the other 2; the\\nlatter are NOT linearly separable from each other.\\n\\n.. topic:: References\\n\\n   - Fisher, R.A. \"The use of multiple measurements in taxonomic problems\"\\n     Annual Eugenics, 7, Part II, 179-188 (1936); also in \"Contributions to\\n     Mathematical Statistics\" (John Wiley, NY, 1950).\\n   - Duda, R.O., & Hart, P.E. (1973) Pattern Classification and Scene Analysis.\\n     (Q327.D83) John Wiley & Sons.  ISBN 0-471-22361-1.  See page 218.\\n   - Dasarathy, B.V. (1980) \"Nosing Around the Neighborhood: A New System\\n     Structure and Classification Rule for Recognition in Partially Exposed\\n     Environments\".  IEEE Transactions on Pattern Analysis and Machine\\n     Intelligence, Vol. PAMI-2, No. 1, 67-71.\\n   - Gates, G.W. (1972) \"The Reduced Nearest Neighbor Rule\".  IEEE Transactions\\n     on Information Theory, May 1972, 431-433.\\n   - See also: 1988 MLC Proceedings, 54-64.  Cheeseman et al\"s AUTOCLASS II\\n     conceptual clustering system finds 3 classes in the data.\\n   - Many, many more ...',\n",
              " 'data': array([[5.1, 3.5, 1.4, 0.2],\n",
              "        [4.9, 3. , 1.4, 0.2],\n",
              "        [4.7, 3.2, 1.3, 0.2],\n",
              "        [4.6, 3.1, 1.5, 0.2],\n",
              "        [5. , 3.6, 1.4, 0.2],\n",
              "        [5.4, 3.9, 1.7, 0.4],\n",
              "        [4.6, 3.4, 1.4, 0.3],\n",
              "        [5. , 3.4, 1.5, 0.2],\n",
              "        [4.4, 2.9, 1.4, 0.2],\n",
              "        [4.9, 3.1, 1.5, 0.1],\n",
              "        [5.4, 3.7, 1.5, 0.2],\n",
              "        [4.8, 3.4, 1.6, 0.2],\n",
              "        [4.8, 3. , 1.4, 0.1],\n",
              "        [4.3, 3. , 1.1, 0.1],\n",
              "        [5.8, 4. , 1.2, 0.2],\n",
              "        [5.7, 4.4, 1.5, 0.4],\n",
              "        [5.4, 3.9, 1.3, 0.4],\n",
              "        [5.1, 3.5, 1.4, 0.3],\n",
              "        [5.7, 3.8, 1.7, 0.3],\n",
              "        [5.1, 3.8, 1.5, 0.3],\n",
              "        [5.4, 3.4, 1.7, 0.2],\n",
              "        [5.1, 3.7, 1.5, 0.4],\n",
              "        [4.6, 3.6, 1. , 0.2],\n",
              "        [5.1, 3.3, 1.7, 0.5],\n",
              "        [4.8, 3.4, 1.9, 0.2],\n",
              "        [5. , 3. , 1.6, 0.2],\n",
              "        [5. , 3.4, 1.6, 0.4],\n",
              "        [5.2, 3.5, 1.5, 0.2],\n",
              "        [5.2, 3.4, 1.4, 0.2],\n",
              "        [4.7, 3.2, 1.6, 0.2],\n",
              "        [4.8, 3.1, 1.6, 0.2],\n",
              "        [5.4, 3.4, 1.5, 0.4],\n",
              "        [5.2, 4.1, 1.5, 0.1],\n",
              "        [5.5, 4.2, 1.4, 0.2],\n",
              "        [4.9, 3.1, 1.5, 0.2],\n",
              "        [5. , 3.2, 1.2, 0.2],\n",
              "        [5.5, 3.5, 1.3, 0.2],\n",
              "        [4.9, 3.6, 1.4, 0.1],\n",
              "        [4.4, 3. , 1.3, 0.2],\n",
              "        [5.1, 3.4, 1.5, 0.2],\n",
              "        [5. , 3.5, 1.3, 0.3],\n",
              "        [4.5, 2.3, 1.3, 0.3],\n",
              "        [4.4, 3.2, 1.3, 0.2],\n",
              "        [5. , 3.5, 1.6, 0.6],\n",
              "        [5.1, 3.8, 1.9, 0.4],\n",
              "        [4.8, 3. , 1.4, 0.3],\n",
              "        [5.1, 3.8, 1.6, 0.2],\n",
              "        [4.6, 3.2, 1.4, 0.2],\n",
              "        [5.3, 3.7, 1.5, 0.2],\n",
              "        [5. , 3.3, 1.4, 0.2],\n",
              "        [7. , 3.2, 4.7, 1.4],\n",
              "        [6.4, 3.2, 4.5, 1.5],\n",
              "        [6.9, 3.1, 4.9, 1.5],\n",
              "        [5.5, 2.3, 4. , 1.3],\n",
              "        [6.5, 2.8, 4.6, 1.5],\n",
              "        [5.7, 2.8, 4.5, 1.3],\n",
              "        [6.3, 3.3, 4.7, 1.6],\n",
              "        [4.9, 2.4, 3.3, 1. ],\n",
              "        [6.6, 2.9, 4.6, 1.3],\n",
              "        [5.2, 2.7, 3.9, 1.4],\n",
              "        [5. , 2. , 3.5, 1. ],\n",
              "        [5.9, 3. , 4.2, 1.5],\n",
              "        [6. , 2.2, 4. , 1. ],\n",
              "        [6.1, 2.9, 4.7, 1.4],\n",
              "        [5.6, 2.9, 3.6, 1.3],\n",
              "        [6.7, 3.1, 4.4, 1.4],\n",
              "        [5.6, 3. , 4.5, 1.5],\n",
              "        [5.8, 2.7, 4.1, 1. ],\n",
              "        [6.2, 2.2, 4.5, 1.5],\n",
              "        [5.6, 2.5, 3.9, 1.1],\n",
              "        [5.9, 3.2, 4.8, 1.8],\n",
              "        [6.1, 2.8, 4. , 1.3],\n",
              "        [6.3, 2.5, 4.9, 1.5],\n",
              "        [6.1, 2.8, 4.7, 1.2],\n",
              "        [6.4, 2.9, 4.3, 1.3],\n",
              "        [6.6, 3. , 4.4, 1.4],\n",
              "        [6.8, 2.8, 4.8, 1.4],\n",
              "        [6.7, 3. , 5. , 1.7],\n",
              "        [6. , 2.9, 4.5, 1.5],\n",
              "        [5.7, 2.6, 3.5, 1. ],\n",
              "        [5.5, 2.4, 3.8, 1.1],\n",
              "        [5.5, 2.4, 3.7, 1. ],\n",
              "        [5.8, 2.7, 3.9, 1.2],\n",
              "        [6. , 2.7, 5.1, 1.6],\n",
              "        [5.4, 3. , 4.5, 1.5],\n",
              "        [6. , 3.4, 4.5, 1.6],\n",
              "        [6.7, 3.1, 4.7, 1.5],\n",
              "        [6.3, 2.3, 4.4, 1.3],\n",
              "        [5.6, 3. , 4.1, 1.3],\n",
              "        [5.5, 2.5, 4. , 1.3],\n",
              "        [5.5, 2.6, 4.4, 1.2],\n",
              "        [6.1, 3. , 4.6, 1.4],\n",
              "        [5.8, 2.6, 4. , 1.2],\n",
              "        [5. , 2.3, 3.3, 1. ],\n",
              "        [5.6, 2.7, 4.2, 1.3],\n",
              "        [5.7, 3. , 4.2, 1.2],\n",
              "        [5.7, 2.9, 4.2, 1.3],\n",
              "        [6.2, 2.9, 4.3, 1.3],\n",
              "        [5.1, 2.5, 3. , 1.1],\n",
              "        [5.7, 2.8, 4.1, 1.3],\n",
              "        [6.3, 3.3, 6. , 2.5],\n",
              "        [5.8, 2.7, 5.1, 1.9],\n",
              "        [7.1, 3. , 5.9, 2.1],\n",
              "        [6.3, 2.9, 5.6, 1.8],\n",
              "        [6.5, 3. , 5.8, 2.2],\n",
              "        [7.6, 3. , 6.6, 2.1],\n",
              "        [4.9, 2.5, 4.5, 1.7],\n",
              "        [7.3, 2.9, 6.3, 1.8],\n",
              "        [6.7, 2.5, 5.8, 1.8],\n",
              "        [7.2, 3.6, 6.1, 2.5],\n",
              "        [6.5, 3.2, 5.1, 2. ],\n",
              "        [6.4, 2.7, 5.3, 1.9],\n",
              "        [6.8, 3. , 5.5, 2.1],\n",
              "        [5.7, 2.5, 5. , 2. ],\n",
              "        [5.8, 2.8, 5.1, 2.4],\n",
              "        [6.4, 3.2, 5.3, 2.3],\n",
              "        [6.5, 3. , 5.5, 1.8],\n",
              "        [7.7, 3.8, 6.7, 2.2],\n",
              "        [7.7, 2.6, 6.9, 2.3],\n",
              "        [6. , 2.2, 5. , 1.5],\n",
              "        [6.9, 3.2, 5.7, 2.3],\n",
              "        [5.6, 2.8, 4.9, 2. ],\n",
              "        [7.7, 2.8, 6.7, 2. ],\n",
              "        [6.3, 2.7, 4.9, 1.8],\n",
              "        [6.7, 3.3, 5.7, 2.1],\n",
              "        [7.2, 3.2, 6. , 1.8],\n",
              "        [6.2, 2.8, 4.8, 1.8],\n",
              "        [6.1, 3. , 4.9, 1.8],\n",
              "        [6.4, 2.8, 5.6, 2.1],\n",
              "        [7.2, 3. , 5.8, 1.6],\n",
              "        [7.4, 2.8, 6.1, 1.9],\n",
              "        [7.9, 3.8, 6.4, 2. ],\n",
              "        [6.4, 2.8, 5.6, 2.2],\n",
              "        [6.3, 2.8, 5.1, 1.5],\n",
              "        [6.1, 2.6, 5.6, 1.4],\n",
              "        [7.7, 3. , 6.1, 2.3],\n",
              "        [6.3, 3.4, 5.6, 2.4],\n",
              "        [6.4, 3.1, 5.5, 1.8],\n",
              "        [6. , 3. , 4.8, 1.8],\n",
              "        [6.9, 3.1, 5.4, 2.1],\n",
              "        [6.7, 3.1, 5.6, 2.4],\n",
              "        [6.9, 3.1, 5.1, 2.3],\n",
              "        [5.8, 2.7, 5.1, 1.9],\n",
              "        [6.8, 3.2, 5.9, 2.3],\n",
              "        [6.7, 3.3, 5.7, 2.5],\n",
              "        [6.7, 3. , 5.2, 2.3],\n",
              "        [6.3, 2.5, 5. , 1.9],\n",
              "        [6.5, 3. , 5.2, 2. ],\n",
              "        [6.2, 3.4, 5.4, 2.3],\n",
              "        [5.9, 3. , 5.1, 1.8]]),\n",
              " 'data_module': 'sklearn.datasets.data',\n",
              " 'feature_names': ['sepal length (cm)',\n",
              "  'sepal width (cm)',\n",
              "  'petal length (cm)',\n",
              "  'petal width (cm)'],\n",
              " 'filename': 'iris.csv',\n",
              " 'frame': None,\n",
              " 'target': array([0, 0, 0, 0, 0, 0, 0, 0, 0, 0, 0, 0, 0, 0, 0, 0, 0, 0, 0, 0, 0, 0,\n",
              "        0, 0, 0, 0, 0, 0, 0, 0, 0, 0, 0, 0, 0, 0, 0, 0, 0, 0, 0, 0, 0, 0,\n",
              "        0, 0, 0, 0, 0, 0, 1, 1, 1, 1, 1, 1, 1, 1, 1, 1, 1, 1, 1, 1, 1, 1,\n",
              "        1, 1, 1, 1, 1, 1, 1, 1, 1, 1, 1, 1, 1, 1, 1, 1, 1, 1, 1, 1, 1, 1,\n",
              "        1, 1, 1, 1, 1, 1, 1, 1, 1, 1, 1, 1, 2, 2, 2, 2, 2, 2, 2, 2, 2, 2,\n",
              "        2, 2, 2, 2, 2, 2, 2, 2, 2, 2, 2, 2, 2, 2, 2, 2, 2, 2, 2, 2, 2, 2,\n",
              "        2, 2, 2, 2, 2, 2, 2, 2, 2, 2, 2, 2, 2, 2, 2, 2, 2, 2]),\n",
              " 'target_names': array(['setosa', 'versicolor', 'virginica'], dtype='<U10')}"
            ]
          },
          "metadata": {},
          "execution_count": 3
        }
      ]
    },
    {
      "cell_type": "code",
      "source": [
        "print(\"iris data:\",iris.data)\n",
        "print(\"iris target:\",iris.target)"
      ],
      "metadata": {
        "colab": {
          "base_uri": "https://localhost:8080/"
        },
        "id": "FxKIf_bz6jI-",
        "outputId": "772af9f7-270a-4311-f0db-a3b0e2985344"
      },
      "execution_count": 4,
      "outputs": [
        {
          "output_type": "stream",
          "name": "stdout",
          "text": [
            "iris data: [[5.1 3.5 1.4 0.2]\n",
            " [4.9 3.  1.4 0.2]\n",
            " [4.7 3.2 1.3 0.2]\n",
            " [4.6 3.1 1.5 0.2]\n",
            " [5.  3.6 1.4 0.2]\n",
            " [5.4 3.9 1.7 0.4]\n",
            " [4.6 3.4 1.4 0.3]\n",
            " [5.  3.4 1.5 0.2]\n",
            " [4.4 2.9 1.4 0.2]\n",
            " [4.9 3.1 1.5 0.1]\n",
            " [5.4 3.7 1.5 0.2]\n",
            " [4.8 3.4 1.6 0.2]\n",
            " [4.8 3.  1.4 0.1]\n",
            " [4.3 3.  1.1 0.1]\n",
            " [5.8 4.  1.2 0.2]\n",
            " [5.7 4.4 1.5 0.4]\n",
            " [5.4 3.9 1.3 0.4]\n",
            " [5.1 3.5 1.4 0.3]\n",
            " [5.7 3.8 1.7 0.3]\n",
            " [5.1 3.8 1.5 0.3]\n",
            " [5.4 3.4 1.7 0.2]\n",
            " [5.1 3.7 1.5 0.4]\n",
            " [4.6 3.6 1.  0.2]\n",
            " [5.1 3.3 1.7 0.5]\n",
            " [4.8 3.4 1.9 0.2]\n",
            " [5.  3.  1.6 0.2]\n",
            " [5.  3.4 1.6 0.4]\n",
            " [5.2 3.5 1.5 0.2]\n",
            " [5.2 3.4 1.4 0.2]\n",
            " [4.7 3.2 1.6 0.2]\n",
            " [4.8 3.1 1.6 0.2]\n",
            " [5.4 3.4 1.5 0.4]\n",
            " [5.2 4.1 1.5 0.1]\n",
            " [5.5 4.2 1.4 0.2]\n",
            " [4.9 3.1 1.5 0.2]\n",
            " [5.  3.2 1.2 0.2]\n",
            " [5.5 3.5 1.3 0.2]\n",
            " [4.9 3.6 1.4 0.1]\n",
            " [4.4 3.  1.3 0.2]\n",
            " [5.1 3.4 1.5 0.2]\n",
            " [5.  3.5 1.3 0.3]\n",
            " [4.5 2.3 1.3 0.3]\n",
            " [4.4 3.2 1.3 0.2]\n",
            " [5.  3.5 1.6 0.6]\n",
            " [5.1 3.8 1.9 0.4]\n",
            " [4.8 3.  1.4 0.3]\n",
            " [5.1 3.8 1.6 0.2]\n",
            " [4.6 3.2 1.4 0.2]\n",
            " [5.3 3.7 1.5 0.2]\n",
            " [5.  3.3 1.4 0.2]\n",
            " [7.  3.2 4.7 1.4]\n",
            " [6.4 3.2 4.5 1.5]\n",
            " [6.9 3.1 4.9 1.5]\n",
            " [5.5 2.3 4.  1.3]\n",
            " [6.5 2.8 4.6 1.5]\n",
            " [5.7 2.8 4.5 1.3]\n",
            " [6.3 3.3 4.7 1.6]\n",
            " [4.9 2.4 3.3 1. ]\n",
            " [6.6 2.9 4.6 1.3]\n",
            " [5.2 2.7 3.9 1.4]\n",
            " [5.  2.  3.5 1. ]\n",
            " [5.9 3.  4.2 1.5]\n",
            " [6.  2.2 4.  1. ]\n",
            " [6.1 2.9 4.7 1.4]\n",
            " [5.6 2.9 3.6 1.3]\n",
            " [6.7 3.1 4.4 1.4]\n",
            " [5.6 3.  4.5 1.5]\n",
            " [5.8 2.7 4.1 1. ]\n",
            " [6.2 2.2 4.5 1.5]\n",
            " [5.6 2.5 3.9 1.1]\n",
            " [5.9 3.2 4.8 1.8]\n",
            " [6.1 2.8 4.  1.3]\n",
            " [6.3 2.5 4.9 1.5]\n",
            " [6.1 2.8 4.7 1.2]\n",
            " [6.4 2.9 4.3 1.3]\n",
            " [6.6 3.  4.4 1.4]\n",
            " [6.8 2.8 4.8 1.4]\n",
            " [6.7 3.  5.  1.7]\n",
            " [6.  2.9 4.5 1.5]\n",
            " [5.7 2.6 3.5 1. ]\n",
            " [5.5 2.4 3.8 1.1]\n",
            " [5.5 2.4 3.7 1. ]\n",
            " [5.8 2.7 3.9 1.2]\n",
            " [6.  2.7 5.1 1.6]\n",
            " [5.4 3.  4.5 1.5]\n",
            " [6.  3.4 4.5 1.6]\n",
            " [6.7 3.1 4.7 1.5]\n",
            " [6.3 2.3 4.4 1.3]\n",
            " [5.6 3.  4.1 1.3]\n",
            " [5.5 2.5 4.  1.3]\n",
            " [5.5 2.6 4.4 1.2]\n",
            " [6.1 3.  4.6 1.4]\n",
            " [5.8 2.6 4.  1.2]\n",
            " [5.  2.3 3.3 1. ]\n",
            " [5.6 2.7 4.2 1.3]\n",
            " [5.7 3.  4.2 1.2]\n",
            " [5.7 2.9 4.2 1.3]\n",
            " [6.2 2.9 4.3 1.3]\n",
            " [5.1 2.5 3.  1.1]\n",
            " [5.7 2.8 4.1 1.3]\n",
            " [6.3 3.3 6.  2.5]\n",
            " [5.8 2.7 5.1 1.9]\n",
            " [7.1 3.  5.9 2.1]\n",
            " [6.3 2.9 5.6 1.8]\n",
            " [6.5 3.  5.8 2.2]\n",
            " [7.6 3.  6.6 2.1]\n",
            " [4.9 2.5 4.5 1.7]\n",
            " [7.3 2.9 6.3 1.8]\n",
            " [6.7 2.5 5.8 1.8]\n",
            " [7.2 3.6 6.1 2.5]\n",
            " [6.5 3.2 5.1 2. ]\n",
            " [6.4 2.7 5.3 1.9]\n",
            " [6.8 3.  5.5 2.1]\n",
            " [5.7 2.5 5.  2. ]\n",
            " [5.8 2.8 5.1 2.4]\n",
            " [6.4 3.2 5.3 2.3]\n",
            " [6.5 3.  5.5 1.8]\n",
            " [7.7 3.8 6.7 2.2]\n",
            " [7.7 2.6 6.9 2.3]\n",
            " [6.  2.2 5.  1.5]\n",
            " [6.9 3.2 5.7 2.3]\n",
            " [5.6 2.8 4.9 2. ]\n",
            " [7.7 2.8 6.7 2. ]\n",
            " [6.3 2.7 4.9 1.8]\n",
            " [6.7 3.3 5.7 2.1]\n",
            " [7.2 3.2 6.  1.8]\n",
            " [6.2 2.8 4.8 1.8]\n",
            " [6.1 3.  4.9 1.8]\n",
            " [6.4 2.8 5.6 2.1]\n",
            " [7.2 3.  5.8 1.6]\n",
            " [7.4 2.8 6.1 1.9]\n",
            " [7.9 3.8 6.4 2. ]\n",
            " [6.4 2.8 5.6 2.2]\n",
            " [6.3 2.8 5.1 1.5]\n",
            " [6.1 2.6 5.6 1.4]\n",
            " [7.7 3.  6.1 2.3]\n",
            " [6.3 3.4 5.6 2.4]\n",
            " [6.4 3.1 5.5 1.8]\n",
            " [6.  3.  4.8 1.8]\n",
            " [6.9 3.1 5.4 2.1]\n",
            " [6.7 3.1 5.6 2.4]\n",
            " [6.9 3.1 5.1 2.3]\n",
            " [5.8 2.7 5.1 1.9]\n",
            " [6.8 3.2 5.9 2.3]\n",
            " [6.7 3.3 5.7 2.5]\n",
            " [6.7 3.  5.2 2.3]\n",
            " [6.3 2.5 5.  1.9]\n",
            " [6.5 3.  5.2 2. ]\n",
            " [6.2 3.4 5.4 2.3]\n",
            " [5.9 3.  5.1 1.8]]\n",
            "iris target: [0 0 0 0 0 0 0 0 0 0 0 0 0 0 0 0 0 0 0 0 0 0 0 0 0 0 0 0 0 0 0 0 0 0 0 0 0\n",
            " 0 0 0 0 0 0 0 0 0 0 0 0 0 1 1 1 1 1 1 1 1 1 1 1 1 1 1 1 1 1 1 1 1 1 1 1 1\n",
            " 1 1 1 1 1 1 1 1 1 1 1 1 1 1 1 1 1 1 1 1 1 1 1 1 1 1 2 2 2 2 2 2 2 2 2 2 2\n",
            " 2 2 2 2 2 2 2 2 2 2 2 2 2 2 2 2 2 2 2 2 2 2 2 2 2 2 2 2 2 2 2 2 2 2 2 2 2\n",
            " 2 2]\n"
          ]
        }
      ]
    },
    {
      "cell_type": "code",
      "source": [
        "f1=iris.data[:,:1]\n",
        "f2=iris.data[:,1:2]\n",
        "x=np.concatenate((f1,f2),axis=1)\n",
        "y=iris.target\n",
        "print(x)"
      ],
      "metadata": {
        "colab": {
          "base_uri": "https://localhost:8080/"
        },
        "id": "ryz1IlTE65ej",
        "outputId": "38d14953-62f4-45f8-9f91-b0046e8bf2ca"
      },
      "execution_count": 18,
      "outputs": [
        {
          "output_type": "stream",
          "name": "stdout",
          "text": [
            "[[5.1 3.5]\n",
            " [4.9 3. ]\n",
            " [4.7 3.2]\n",
            " [4.6 3.1]\n",
            " [5.  3.6]\n",
            " [5.4 3.9]\n",
            " [4.6 3.4]\n",
            " [5.  3.4]\n",
            " [4.4 2.9]\n",
            " [4.9 3.1]\n",
            " [5.4 3.7]\n",
            " [4.8 3.4]\n",
            " [4.8 3. ]\n",
            " [4.3 3. ]\n",
            " [5.8 4. ]\n",
            " [5.7 4.4]\n",
            " [5.4 3.9]\n",
            " [5.1 3.5]\n",
            " [5.7 3.8]\n",
            " [5.1 3.8]\n",
            " [5.4 3.4]\n",
            " [5.1 3.7]\n",
            " [4.6 3.6]\n",
            " [5.1 3.3]\n",
            " [4.8 3.4]\n",
            " [5.  3. ]\n",
            " [5.  3.4]\n",
            " [5.2 3.5]\n",
            " [5.2 3.4]\n",
            " [4.7 3.2]\n",
            " [4.8 3.1]\n",
            " [5.4 3.4]\n",
            " [5.2 4.1]\n",
            " [5.5 4.2]\n",
            " [4.9 3.1]\n",
            " [5.  3.2]\n",
            " [5.5 3.5]\n",
            " [4.9 3.6]\n",
            " [4.4 3. ]\n",
            " [5.1 3.4]\n",
            " [5.  3.5]\n",
            " [4.5 2.3]\n",
            " [4.4 3.2]\n",
            " [5.  3.5]\n",
            " [5.1 3.8]\n",
            " [4.8 3. ]\n",
            " [5.1 3.8]\n",
            " [4.6 3.2]\n",
            " [5.3 3.7]\n",
            " [5.  3.3]\n",
            " [7.  3.2]\n",
            " [6.4 3.2]\n",
            " [6.9 3.1]\n",
            " [5.5 2.3]\n",
            " [6.5 2.8]\n",
            " [5.7 2.8]\n",
            " [6.3 3.3]\n",
            " [4.9 2.4]\n",
            " [6.6 2.9]\n",
            " [5.2 2.7]\n",
            " [5.  2. ]\n",
            " [5.9 3. ]\n",
            " [6.  2.2]\n",
            " [6.1 2.9]\n",
            " [5.6 2.9]\n",
            " [6.7 3.1]\n",
            " [5.6 3. ]\n",
            " [5.8 2.7]\n",
            " [6.2 2.2]\n",
            " [5.6 2.5]\n",
            " [5.9 3.2]\n",
            " [6.1 2.8]\n",
            " [6.3 2.5]\n",
            " [6.1 2.8]\n",
            " [6.4 2.9]\n",
            " [6.6 3. ]\n",
            " [6.8 2.8]\n",
            " [6.7 3. ]\n",
            " [6.  2.9]\n",
            " [5.7 2.6]\n",
            " [5.5 2.4]\n",
            " [5.5 2.4]\n",
            " [5.8 2.7]\n",
            " [6.  2.7]\n",
            " [5.4 3. ]\n",
            " [6.  3.4]\n",
            " [6.7 3.1]\n",
            " [6.3 2.3]\n",
            " [5.6 3. ]\n",
            " [5.5 2.5]\n",
            " [5.5 2.6]\n",
            " [6.1 3. ]\n",
            " [5.8 2.6]\n",
            " [5.  2.3]\n",
            " [5.6 2.7]\n",
            " [5.7 3. ]\n",
            " [5.7 2.9]\n",
            " [6.2 2.9]\n",
            " [5.1 2.5]\n",
            " [5.7 2.8]\n",
            " [6.3 3.3]\n",
            " [5.8 2.7]\n",
            " [7.1 3. ]\n",
            " [6.3 2.9]\n",
            " [6.5 3. ]\n",
            " [7.6 3. ]\n",
            " [4.9 2.5]\n",
            " [7.3 2.9]\n",
            " [6.7 2.5]\n",
            " [7.2 3.6]\n",
            " [6.5 3.2]\n",
            " [6.4 2.7]\n",
            " [6.8 3. ]\n",
            " [5.7 2.5]\n",
            " [5.8 2.8]\n",
            " [6.4 3.2]\n",
            " [6.5 3. ]\n",
            " [7.7 3.8]\n",
            " [7.7 2.6]\n",
            " [6.  2.2]\n",
            " [6.9 3.2]\n",
            " [5.6 2.8]\n",
            " [7.7 2.8]\n",
            " [6.3 2.7]\n",
            " [6.7 3.3]\n",
            " [7.2 3.2]\n",
            " [6.2 2.8]\n",
            " [6.1 3. ]\n",
            " [6.4 2.8]\n",
            " [7.2 3. ]\n",
            " [7.4 2.8]\n",
            " [7.9 3.8]\n",
            " [6.4 2.8]\n",
            " [6.3 2.8]\n",
            " [6.1 2.6]\n",
            " [7.7 3. ]\n",
            " [6.3 3.4]\n",
            " [6.4 3.1]\n",
            " [6.  3. ]\n",
            " [6.9 3.1]\n",
            " [6.7 3.1]\n",
            " [6.9 3.1]\n",
            " [5.8 2.7]\n",
            " [6.8 3.2]\n",
            " [6.7 3.3]\n",
            " [6.7 3. ]\n",
            " [6.3 2.5]\n",
            " [6.5 3. ]\n",
            " [6.2 3.4]\n",
            " [5.9 3. ]]\n"
          ]
        }
      ]
    },
    {
      "cell_type": "code",
      "source": [
        "#Graph of first column vs last column of data_test\n",
        "sb.scatterplot(x=x[:,0],y=x[:,1],c=[\"green\"])"
      ],
      "metadata": {
        "colab": {
          "base_uri": "https://localhost:8080/",
          "height": 286
        },
        "id": "TlktLBFK7X2s",
        "outputId": "515fddd3-9be5-421d-d2c0-213a48b4b1e6"
      },
      "execution_count": 19,
      "outputs": [
        {
          "output_type": "execute_result",
          "data": {
            "text/plain": [
              "<matplotlib.axes._subplots.AxesSubplot at 0x7f4118873410>"
            ]
          },
          "metadata": {},
          "execution_count": 19
        },
        {
          "output_type": "display_data",
          "data": {
            "image/png": "[encoded data removed]",
            "text/plain": [
              "<Figure size 432x288 with 1 Axes>"
            ]
          },
          "metadata": {
            "needs_background": "light"
          }
        }
      ]
    },
    {
      "cell_type": "code",
      "source": [
        "from scipy.cluster.hierarchy import dendrogram,linkage\n",
        "dendrogram(linkage(x,'single'),orientation='top',distance_sort='descending',show_leaf_counts=True)\n",
        "plt.show() #if not written plt.show then data_test array will also be printed alongwith dendrogram"
      ],
      "metadata": {
        "colab": {
          "base_uri": "https://localhost:8080/",
          "height": 265
        },
        "id": "5CN6Yloh8vmP",
        "outputId": "9c88c337-f5ef-4d01-e802-3117bc2e2d37"
      },
      "execution_count": 20,
      "outputs": [
        {
          "output_type": "display_data",
          "data": {
            "image/png": "[encoded data removed]",
            "text/plain": [
              "<Figure size 432x288 with 1 Axes>"
            ]
          },
          "metadata": {
            "needs_background": "light"
          }
        }
      ]
    },
    {
      "cell_type": "code",
      "source": [
        "from sklearn.cluster import AgglomerativeClustering\n",
        "model=AgglomerativeClustering(n_clusters=2,affinity='euclidean',linkage='ward')\n",
        "model.fit_predict(x)"
      ],
      "metadata": {
        "colab": {
          "base_uri": "https://localhost:8080/"
        },
        "id": "F6gAIKRd9i-R",
        "outputId": "f8a644b7-9cde-473d-bc3d-46a209b7c6c1"
      },
      "execution_count": 21,
      "outputs": [
        {
          "output_type": "execute_result",
          "data": {
            "text/plain": [
              "array([1, 1, 1, 1, 1, 1, 1, 1, 1, 1, 1, 1, 1, 1, 1, 1, 1, 1, 1, 1, 1, 1,\n",
              "       1, 1, 1, 1, 1, 1, 1, 1, 1, 1, 1, 1, 1, 1, 1, 1, 1, 1, 1, 1, 1, 1,\n",
              "       1, 1, 1, 1, 1, 1, 0, 0, 0, 0, 0, 0, 0, 1, 0, 1, 1, 0, 0, 0, 0, 0,\n",
              "       0, 0, 0, 0, 0, 0, 0, 0, 0, 0, 0, 0, 0, 0, 0, 0, 0, 0, 0, 0, 0, 0,\n",
              "       0, 0, 0, 0, 0, 1, 0, 0, 0, 0, 1, 0, 0, 0, 0, 0, 0, 0, 1, 0, 0, 0,\n",
              "       0, 0, 0, 0, 0, 0, 0, 0, 0, 0, 0, 0, 0, 0, 0, 0, 0, 0, 0, 0, 0, 0,\n",
              "       0, 0, 0, 0, 0, 0, 0, 0, 0, 0, 0, 0, 0, 0, 0, 0, 0, 0])"
            ]
          },
          "metadata": {},
          "execution_count": 21
        }
      ]
    },
    {
      "cell_type": "code",
      "source": [
        "plt.scatter(x=x[:,0],y=x[:,1],c=model.labels_,cmap='rainbow')"
      ],
      "metadata": {
        "colab": {
          "base_uri": "https://localhost:8080/",
          "height": 286
        },
        "id": "8JHEkNap-jod",
        "outputId": "a081e890-48cf-4446-8f52-a9383c5495fa"
      },
      "execution_count": 22,
      "outputs": [
        {
          "output_type": "execute_result",
          "data": {
            "text/plain": [
              "<matplotlib.collections.PathCollection at 0x7f411487b850>"
            ]
          },
          "metadata": {},
          "execution_count": 22
        },
        {
          "output_type": "display_data",
          "data": {
            "image/png": "[encoded data removed]",
            "text/plain": [
              "<Figure size 432x288 with 1 Axes>"
            ]
          },
          "metadata": {
            "needs_background": "light"
          }
        }
      ]
    },
    {
      "cell_type": "code",
      "source": [
        "# Import the KElbowVisualizer method\n",
        "from sklearn.cluster import AgglomerativeClustering\n",
        "from yellowbrick.cluster import KElbowVisualizer\n",
        "\n",
        "# Instantiate a scikit-learn Hierarchical model\n",
        "model = AgglomerativeClustering()\n",
        "# model=KMeans()\n",
        "\n",
        "# Instantiate the KElbowVisualizer with the number of clusters and the metric\n",
        "visulizer = KElbowVisualizer(model, k=(2,50), metric='silhouette', timings=False)\n",
        "\n",
        "# Fit the data and visualize\n",
        "visulizer.fit(x)\n",
        "visulizer.poof()"
      ],
      "metadata": {
        "colab": {
          "base_uri": "https://localhost:8080/",
          "height": 394
        },
        "id": "lyh5JmEBKqh_",
        "outputId": "876c0e65-b747-470a-bcdd-05936ea679dc"
      },
      "execution_count": 23,
      "outputs": [
        {
          "output_type": "display_data",
          "data": {
            "image/png": "[encoded data removed]",
            "text/plain": [
              "<Figure size 576x396 with 1 Axes>"
            ]
          },
          "metadata": {}
        },
        {
          "output_type": "execute_result",
          "data": {
            "text/plain": [
              "<matplotlib.axes._subplots.AxesSubplot at 0x7f41137518d0>"
            ]
          },
          "metadata": {},
          "execution_count": 23
        }
      ]
    },
    {
      "cell_type": "code",
      "source": [
        "from sklearn.cluster import KMeans\n",
        "kmeans = KMeans(n_clusters=2, random_state=116).fit(x)\n",
        "from sklearn.cluster import AgglomerativeClustering\n",
        "\n",
        "hc_model = AgglomerativeClustering(n_clusters=2, affinity=\"euclidean\", linkage='ward')\n",
        "hc_model.fit_predict(x)"
      ],
      "metadata": {
        "colab": {
          "base_uri": "https://localhost:8080/"
        },
        "id": "wOi753ZQK2lq",
        "outputId": "766d67de-24c9-4b44-f5b2-6755d757857b"
      },
      "execution_count": 27,
      "outputs": [
        {
          "output_type": "execute_result",
          "data": {
            "text/plain": [
              "array([1, 1, 1, 1, 1, 1, 1, 1, 1, 1, 1, 1, 1, 1, 1, 1, 1, 1, 1, 1, 1, 1,\n",
              "       1, 1, 1, 1, 1, 1, 1, 1, 1, 1, 1, 1, 1, 1, 1, 1, 1, 1, 1, 1, 1, 1,\n",
              "       1, 1, 1, 1, 1, 1, 0, 0, 0, 0, 0, 0, 0, 1, 0, 1, 1, 0, 0, 0, 0, 0,\n",
              "       0, 0, 0, 0, 0, 0, 0, 0, 0, 0, 0, 0, 0, 0, 0, 0, 0, 0, 0, 0, 0, 0,\n",
              "       0, 0, 0, 0, 0, 1, 0, 0, 0, 0, 1, 0, 0, 0, 0, 0, 0, 0, 1, 0, 0, 0,\n",
              "       0, 0, 0, 0, 0, 0, 0, 0, 0, 0, 0, 0, 0, 0, 0, 0, 0, 0, 0, 0, 0, 0,\n",
              "       0, 0, 0, 0, 0, 0, 0, 0, 0, 0, 0, 0, 0, 0, 0, 0, 0, 0])"
            ]
          },
          "metadata": {},
          "execution_count": 27
        }
      ]
    },
    {
      "cell_type": "code",
      "source": [
        "# print the data points\n",
        "plt.scatter(x=x[:,0], y=x[:,1], c=hc_model.labels_, cmap='rainbow')\n",
        "plt.scatter(kmeans.cluster_centers_[:, 0], \n",
        "            kmeans.cluster_centers_[:, 1],\n",
        "            c='yellow', marker='x')\n",
        "plt.title('Data points and cluster centroids')\n",
        "plt.show()"
      ],
      "metadata": {
        "colab": {
          "base_uri": "https://localhost:8080/",
          "height": 362
        },
        "id": "hMAXQ-cQK7C5",
        "outputId": "996fc03c-f179-418a-bb32-95b81062eb05"
      },
      "execution_count": 28,
      "outputs": [
        {
          "output_type": "display_data",
          "data": {
            "image/png": "[encoded data removed]",
            "text/plain": [
              "<Figure size 576x396 with 1 Axes>"
            ]
          },
          "metadata": {}
        }
      ]
    },
    {
      "cell_type": "code",
      "source": [
        " # Calculate silhouette_score\n",
        "from sklearn.metrics import silhouette_score\n",
        "# print(silhouette_score(x, kmeans.labels_))\n",
        "print(\"Silhouette Score = \", silhouette_score(x, hc_model.labels_))"
      ],
      "metadata": {
        "colab": {
          "base_uri": "https://localhost:8080/"
        },
        "id": "m96d5oJTMHul",
        "outputId": "bfdf9719-9274-44f8-f5b0-010fa03ed042"
      },
      "execution_count": 49,
      "outputs": [
        {
          "output_type": "stream",
          "name": "stdout",
          "text": [
            "Silhouette Score =  0.5411088328922965\n"
          ]
        }
      ]
    },
    {
      "cell_type": "markdown",
      "source": [
        "**DIABETES DATASET**"
      ],
      "metadata": {
        "id": "NRXHdmMZ_Il7"
      }
    },
    {
      "cell_type": "code",
      "source": [
        "diabetes=datasets.load_diabetes()\n",
        "diabetes"
      ],
      "metadata": {
        "colab": {
          "base_uri": "https://localhost:8080/"
        },
        "id": "ne3n52qv_LPa",
        "outputId": "e7660f04-fb5a-427a-85d9-4c42a7e11125"
      },
      "execution_count": 33,
      "outputs": [
        {
          "output_type": "execute_result",
          "data": {
            "text/plain": [
              "{'DESCR': '.. _diabetes_dataset:\\n\\nDiabetes dataset\\n----------------\\n\\nTen baseline variables, age, sex, body mass index, average blood\\npressure, and six blood serum measurements were obtained for each of n =\\n442 diabetes patients, as well as the response of interest, a\\nquantitative measure of disease progression one year after baseline.\\n\\n**Data Set Characteristics:**\\n\\n  :Number of Instances: 442\\n\\n  :Number of Attributes: First 10 columns are numeric predictive values\\n\\n  :Target: Column 11 is a quantitative measure of disease progression one year after baseline\\n\\n  :Attribute Information:\\n      - age     age in years\\n      - sex\\n      - bmi     body mass index\\n      - bp      average blood pressure\\n      - s1      tc, total serum cholesterol\\n      - s2      ldl, low-density lipoproteins\\n      - s3      hdl, high-density lipoproteins\\n      - s4      tch, total cholesterol / HDL\\n      - s5      ltg, possibly log of serum triglycerides level\\n      - s6      glu, blood sugar level\\n\\nNote: Each of these 10 feature variables have been mean centered and scaled by the standard deviation times `n_samples` (i.e. the sum of squares of each column totals 1).\\n\\nSource URL:\\nhttps://www4.stat.ncsu.edu/~boos/var.select/diabetes.html\\n\\nFor more information see:\\nBradley Efron, Trevor Hastie, Iain Johnstone and Robert Tibshirani (2004) \"Least Angle Regression,\" Annals of Statistics (with discussion), 407-499.\\n(https://web.stanford.edu/~hastie/Papers/LARS/LeastAngle_2002.pdf)',\n",
              " 'data': array([[ 0.03807591,  0.05068012,  0.06169621, ..., -0.00259226,\n",
              "          0.01990842, -0.01764613],\n",
              "        [-0.00188202, -0.04464164, -0.05147406, ..., -0.03949338,\n",
              "         -0.06832974, -0.09220405],\n",
              "        [ 0.08529891,  0.05068012,  0.04445121, ..., -0.00259226,\n",
              "          0.00286377, -0.02593034],\n",
              "        ...,\n",
              "        [ 0.04170844,  0.05068012, -0.01590626, ..., -0.01107952,\n",
              "         -0.04687948,  0.01549073],\n",
              "        [-0.04547248, -0.04464164,  0.03906215, ...,  0.02655962,\n",
              "          0.04452837, -0.02593034],\n",
              "        [-0.04547248, -0.04464164, -0.0730303 , ..., -0.03949338,\n",
              "         -0.00421986,  0.00306441]]),\n",
              " 'data_filename': 'diabetes_data.csv.gz',\n",
              " 'data_module': 'sklearn.datasets.data',\n",
              " 'feature_names': ['age',\n",
              "  'sex',\n",
              "  'bmi',\n",
              "  'bp',\n",
              "  's1',\n",
              "  's2',\n",
              "  's3',\n",
              "  's4',\n",
              "  's5',\n",
              "  's6'],\n",
              " 'frame': None,\n",
              " 'target': array([151.,  75., 141., 206., 135.,  97., 138.,  63., 110., 310., 101.,\n",
              "         69., 179., 185., 118., 171., 166., 144.,  97., 168.,  68.,  49.,\n",
              "         68., 245., 184., 202., 137.,  85., 131., 283., 129.,  59., 341.,\n",
              "         87.,  65., 102., 265., 276., 252.,  90., 100.,  55.,  61.,  92.,\n",
              "        259.,  53., 190., 142.,  75., 142., 155., 225.,  59., 104., 182.,\n",
              "        128.,  52.,  37., 170., 170.,  61., 144.,  52., 128.,  71., 163.,\n",
              "        150.,  97., 160., 178.,  48., 270., 202., 111.,  85.,  42., 170.,\n",
              "        200., 252., 113., 143.,  51.,  52., 210.,  65., 141.,  55., 134.,\n",
              "         42., 111.,  98., 164.,  48.,  96.,  90., 162., 150., 279.,  92.,\n",
              "         83., 128., 102., 302., 198.,  95.,  53., 134., 144., 232.,  81.,\n",
              "        104.,  59., 246., 297., 258., 229., 275., 281., 179., 200., 200.,\n",
              "        173., 180.,  84., 121., 161.,  99., 109., 115., 268., 274., 158.,\n",
              "        107.,  83., 103., 272.,  85., 280., 336., 281., 118., 317., 235.,\n",
              "         60., 174., 259., 178., 128.,  96., 126., 288.,  88., 292.,  71.,\n",
              "        197., 186.,  25.,  84.,  96., 195.,  53., 217., 172., 131., 214.,\n",
              "         59.,  70., 220., 268., 152.,  47.,  74., 295., 101., 151., 127.,\n",
              "        237., 225.,  81., 151., 107.,  64., 138., 185., 265., 101., 137.,\n",
              "        143., 141.,  79., 292., 178.,  91., 116.,  86., 122.,  72., 129.,\n",
              "        142.,  90., 158.,  39., 196., 222., 277.,  99., 196., 202., 155.,\n",
              "         77., 191.,  70.,  73.,  49.,  65., 263., 248., 296., 214., 185.,\n",
              "         78.,  93., 252., 150.,  77., 208.,  77., 108., 160.,  53., 220.,\n",
              "        154., 259.,  90., 246., 124.,  67.,  72., 257., 262., 275., 177.,\n",
              "         71.,  47., 187., 125.,  78.,  51., 258., 215., 303., 243.,  91.,\n",
              "        150., 310., 153., 346.,  63.,  89.,  50.,  39., 103., 308., 116.,\n",
              "        145.,  74.,  45., 115., 264.,  87., 202., 127., 182., 241.,  66.,\n",
              "         94., 283.,  64., 102., 200., 265.,  94., 230., 181., 156., 233.,\n",
              "         60., 219.,  80.,  68., 332., 248.,  84., 200.,  55.,  85.,  89.,\n",
              "         31., 129.,  83., 275.,  65., 198., 236., 253., 124.,  44., 172.,\n",
              "        114., 142., 109., 180., 144., 163., 147.,  97., 220., 190., 109.,\n",
              "        191., 122., 230., 242., 248., 249., 192., 131., 237.,  78., 135.,\n",
              "        244., 199., 270., 164.,  72.,  96., 306.,  91., 214.,  95., 216.,\n",
              "        263., 178., 113., 200., 139., 139.,  88., 148.,  88., 243.,  71.,\n",
              "         77., 109., 272.,  60.,  54., 221.,  90., 311., 281., 182., 321.,\n",
              "         58., 262., 206., 233., 242., 123., 167.,  63., 197.,  71., 168.,\n",
              "        140., 217., 121., 235., 245.,  40.,  52., 104., 132.,  88.,  69.,\n",
              "        219.,  72., 201., 110.,  51., 277.,  63., 118.,  69., 273., 258.,\n",
              "         43., 198., 242., 232., 175.,  93., 168., 275., 293., 281.,  72.,\n",
              "        140., 189., 181., 209., 136., 261., 113., 131., 174., 257.,  55.,\n",
              "         84.,  42., 146., 212., 233.,  91., 111., 152., 120.,  67., 310.,\n",
              "         94., 183.,  66., 173.,  72.,  49.,  64.,  48., 178., 104., 132.,\n",
              "        220.,  57.]),\n",
              " 'target_filename': 'diabetes_target.csv.gz'}"
            ]
          },
          "metadata": {},
          "execution_count": 33
        }
      ]
    },
    {
      "cell_type": "code",
      "source": [
        "print(\"diabetes data:\",diabetes.data)\n",
        "print(\"diabetes target:\",diabetes.target)"
      ],
      "metadata": {
        "colab": {
          "base_uri": "https://localhost:8080/"
        },
        "id": "MlbbSA0V_XiQ",
        "outputId": "6dcb2698-996f-4126-9a6a-7d60d1ad187d"
      },
      "execution_count": 34,
      "outputs": [
        {
          "output_type": "stream",
          "name": "stdout",
          "text": [
            "diabetes data: [[ 0.03807591  0.05068012  0.06169621 ... -0.00259226  0.01990842\n",
            "  -0.01764613]\n",
            " [-0.00188202 -0.04464164 -0.05147406 ... -0.03949338 -0.06832974\n",
            "  -0.09220405]\n",
            " [ 0.08529891  0.05068012  0.04445121 ... -0.00259226  0.00286377\n",
            "  -0.02593034]\n",
            " ...\n",
            " [ 0.04170844  0.05068012 -0.01590626 ... -0.01107952 -0.04687948\n",
            "   0.01549073]\n",
            " [-0.04547248 -0.04464164  0.03906215 ...  0.02655962  0.04452837\n",
            "  -0.02593034]\n",
            " [-0.04547248 -0.04464164 -0.0730303  ... -0.03949338 -0.00421986\n",
            "   0.00306441]]\n",
            "diabetes target: [151.  75. 141. 206. 135.  97. 138.  63. 110. 310. 101.  69. 179. 185.\n",
            " 118. 171. 166. 144.  97. 168.  68.  49.  68. 245. 184. 202. 137.  85.\n",
            " 131. 283. 129.  59. 341.  87.  65. 102. 265. 276. 252.  90. 100.  55.\n",
            "  61.  92. 259.  53. 190. 142.  75. 142. 155. 225.  59. 104. 182. 128.\n",
            "  52.  37. 170. 170.  61. 144.  52. 128.  71. 163. 150.  97. 160. 178.\n",
            "  48. 270. 202. 111.  85.  42. 170. 200. 252. 113. 143.  51.  52. 210.\n",
            "  65. 141.  55. 134.  42. 111.  98. 164.  48.  96.  90. 162. 150. 279.\n",
            "  92.  83. 128. 102. 302. 198.  95.  53. 134. 144. 232.  81. 104.  59.\n",
            " 246. 297. 258. 229. 275. 281. 179. 200. 200. 173. 180.  84. 121. 161.\n",
            "  99. 109. 115. 268. 274. 158. 107.  83. 103. 272.  85. 280. 336. 281.\n",
            " 118. 317. 235.  60. 174. 259. 178. 128.  96. 126. 288.  88. 292.  71.\n",
            " 197. 186.  25.  84.  96. 195.  53. 217. 172. 131. 214.  59.  70. 220.\n",
            " 268. 152.  47.  74. 295. 101. 151. 127. 237. 225.  81. 151. 107.  64.\n",
            " 138. 185. 265. 101. 137. 143. 141.  79. 292. 178.  91. 116.  86. 122.\n",
            "  72. 129. 142.  90. 158.  39. 196. 222. 277.  99. 196. 202. 155.  77.\n",
            " 191.  70.  73.  49.  65. 263. 248. 296. 214. 185.  78.  93. 252. 150.\n",
            "  77. 208.  77. 108. 160.  53. 220. 154. 259.  90. 246. 124.  67.  72.\n",
            " 257. 262. 275. 177.  71.  47. 187. 125.  78.  51. 258. 215. 303. 243.\n",
            "  91. 150. 310. 153. 346.  63.  89.  50.  39. 103. 308. 116. 145.  74.\n",
            "  45. 115. 264.  87. 202. 127. 182. 241.  66.  94. 283.  64. 102. 200.\n",
            " 265.  94. 230. 181. 156. 233.  60. 219.  80.  68. 332. 248.  84. 200.\n",
            "  55.  85.  89.  31. 129.  83. 275.  65. 198. 236. 253. 124.  44. 172.\n",
            " 114. 142. 109. 180. 144. 163. 147.  97. 220. 190. 109. 191. 122. 230.\n",
            " 242. 248. 249. 192. 131. 237.  78. 135. 244. 199. 270. 164.  72.  96.\n",
            " 306.  91. 214.  95. 216. 263. 178. 113. 200. 139. 139.  88. 148.  88.\n",
            " 243.  71.  77. 109. 272.  60.  54. 221.  90. 311. 281. 182. 321.  58.\n",
            " 262. 206. 233. 242. 123. 167.  63. 197.  71. 168. 140. 217. 121. 235.\n",
            " 245.  40.  52. 104. 132.  88.  69. 219.  72. 201. 110.  51. 277.  63.\n",
            " 118.  69. 273. 258.  43. 198. 242. 232. 175.  93. 168. 275. 293. 281.\n",
            "  72. 140. 189. 181. 209. 136. 261. 113. 131. 174. 257.  55.  84.  42.\n",
            " 146. 212. 233.  91. 111. 152. 120.  67. 310.  94. 183.  66. 173.  72.\n",
            "  49.  64.  48. 178. 104. 132. 220.  57.]\n"
          ]
        }
      ]
    },
    {
      "cell_type": "code",
      "source": [
        "f1=diabetes.data[:,:1]\n",
        "f2=diabetes.data[:,1:2]\n",
        "x=np.concatenate((f1,f2),axis=1)\n",
        "y=diabetes.target\n",
        "print(x)"
      ],
      "metadata": {
        "colab": {
          "base_uri": "https://localhost:8080/"
        },
        "id": "fQhqpbVN_kkM",
        "outputId": "c00cff01-f425-4566-e088-aff09fb16bbb"
      },
      "execution_count": 35,
      "outputs": [
        {
          "output_type": "stream",
          "name": "stdout",
          "text": [
            "[[ 0.03807591  0.05068012]\n",
            " [-0.00188202 -0.04464164]\n",
            " [ 0.08529891  0.05068012]\n",
            " [-0.08906294 -0.04464164]\n",
            " [ 0.00538306 -0.04464164]\n",
            " [-0.09269548 -0.04464164]\n",
            " [-0.04547248  0.05068012]\n",
            " [ 0.06350368  0.05068012]\n",
            " [ 0.04170844  0.05068012]\n",
            " [-0.07090025 -0.04464164]\n",
            " [-0.09632802 -0.04464164]\n",
            " [ 0.02717829  0.05068012]\n",
            " [ 0.01628068 -0.04464164]\n",
            " [ 0.00538306  0.05068012]\n",
            " [ 0.04534098 -0.04464164]\n",
            " [-0.05273755  0.05068012]\n",
            " [-0.00551455 -0.04464164]\n",
            " [ 0.07076875  0.05068012]\n",
            " [-0.0382074  -0.04464164]\n",
            " [-0.02730979 -0.04464164]\n",
            " [-0.04910502 -0.04464164]\n",
            " [-0.0854304   0.05068012]\n",
            " [-0.0854304  -0.04464164]\n",
            " [ 0.04534098  0.05068012]\n",
            " [-0.06363517 -0.04464164]\n",
            " [-0.06726771  0.05068012]\n",
            " [-0.10722563 -0.04464164]\n",
            " [-0.02367725 -0.04464164]\n",
            " [ 0.05260606 -0.04464164]\n",
            " [ 0.06713621  0.05068012]\n",
            " [-0.06000263 -0.04464164]\n",
            " [-0.02367725 -0.04464164]\n",
            " [ 0.03444337  0.05068012]\n",
            " [ 0.03081083 -0.04464164]\n",
            " [ 0.01628068 -0.04464164]\n",
            " [ 0.04897352  0.05068012]\n",
            " [ 0.01264814 -0.04464164]\n",
            " [-0.00914709 -0.04464164]\n",
            " [-0.00188202  0.05068012]\n",
            " [-0.00188202  0.05068012]\n",
            " [ 0.00538306  0.05068012]\n",
            " [-0.09996055 -0.04464164]\n",
            " [-0.06000263  0.05068012]\n",
            " [ 0.01991321 -0.04464164]\n",
            " [ 0.04534098  0.05068012]\n",
            " [ 0.02717829  0.05068012]\n",
            " [-0.05637009 -0.04464164]\n",
            " [-0.07816532 -0.04464164]\n",
            " [ 0.06713621  0.05068012]\n",
            " [-0.04183994  0.05068012]\n",
            " [ 0.03444337 -0.04464164]\n",
            " [ 0.05987114  0.05068012]\n",
            " [-0.05273755 -0.04464164]\n",
            " [-0.00914709 -0.04464164]\n",
            " [-0.04910502 -0.04464164]\n",
            " [-0.04183994 -0.04464164]\n",
            " [-0.04183994 -0.04464164]\n",
            " [-0.02730979 -0.04464164]\n",
            " [ 0.04170844 -0.04464164]\n",
            " [ 0.06350368  0.05068012]\n",
            " [-0.07090025 -0.04464164]\n",
            " [-0.04183994  0.05068012]\n",
            " [-0.02730979  0.05068012]\n",
            " [-0.03457486 -0.04464164]\n",
            " [ 0.06713621  0.05068012]\n",
            " [-0.04547248  0.05068012]\n",
            " [-0.00914709  0.05068012]\n",
            " [ 0.04170844  0.05068012]\n",
            " [ 0.03807591  0.05068012]\n",
            " [ 0.01628068 -0.04464164]\n",
            " [-0.00188202 -0.04464164]\n",
            " [-0.00188202 -0.04464164]\n",
            " [ 0.06350368  0.05068012]\n",
            " [ 0.01264814  0.05068012]\n",
            " [ 0.01264814  0.05068012]\n",
            " [-0.00914709  0.05068012]\n",
            " [-0.03094232  0.05068012]\n",
            " [-0.09632802 -0.04464164]\n",
            " [ 0.00538306 -0.04464164]\n",
            " [-0.10359309 -0.04464164]\n",
            " [ 0.07076875 -0.04464164]\n",
            " [ 0.01264814  0.05068012]\n",
            " [-0.01641217 -0.04464164]\n",
            " [-0.0382074  -0.04464164]\n",
            " [ 0.00175052 -0.04464164]\n",
            " [ 0.04534098 -0.04464164]\n",
            " [-0.07090025  0.05068012]\n",
            " [ 0.04534098 -0.04464164]\n",
            " [-0.05273755  0.05068012]\n",
            " [-0.04547248 -0.04464164]\n",
            " [ 0.01264814 -0.04464164]\n",
            " [ 0.04534098 -0.04464164]\n",
            " [-0.02004471 -0.04464164]\n",
            " [-0.04910502 -0.04464164]\n",
            " [-0.07816532 -0.04464164]\n",
            " [-0.07090025 -0.04464164]\n",
            " [ 0.0562386   0.05068012]\n",
            " [-0.02730979 -0.04464164]\n",
            " [ 0.00175052  0.05068012]\n",
            " [-0.00188202 -0.04464164]\n",
            " [ 0.01628068 -0.04464164]\n",
            " [ 0.01628068  0.05068012]\n",
            " [-0.09269548 -0.04464164]\n",
            " [ 0.05987114  0.05068012]\n",
            " [-0.02730979 -0.04464164]\n",
            " [ 0.02354575  0.05068012]\n",
            " [-0.09632802 -0.04464164]\n",
            " [ 0.02717829 -0.04464164]\n",
            " [ 0.01991321  0.05068012]\n",
            " [ 0.03807591  0.05068012]\n",
            " [ 0.04170844  0.05068012]\n",
            " [ 0.01991321 -0.04464164]\n",
            " [-0.0854304  -0.04464164]\n",
            " [ 0.01991321  0.05068012]\n",
            " [ 0.02354575 -0.04464164]\n",
            " [-0.03094232  0.05068012]\n",
            " [ 0.04897352  0.05068012]\n",
            " [ 0.05987114 -0.04464164]\n",
            " [-0.05637009  0.05068012]\n",
            " [ 0.01628068 -0.04464164]\n",
            " [-0.04910502 -0.04464164]\n",
            " [ 0.06350368 -0.04464164]\n",
            " [ 0.04897352  0.05068012]\n",
            " [ 0.00538306  0.05068012]\n",
            " [-0.00551455 -0.04464164]\n",
            " [-0.00551455  0.05068012]\n",
            " [-0.08906294 -0.04464164]\n",
            " [ 0.03444337  0.05068012]\n",
            " [-0.05273755 -0.04464164]\n",
            " [ 0.0090156  -0.04464164]\n",
            " [-0.06363517  0.05068012]\n",
            " [-0.09632802 -0.04464164]\n",
            " [ 0.01628068  0.05068012]\n",
            " [-0.04183994  0.05068012]\n",
            " [-0.07453279 -0.04464164]\n",
            " [-0.00551455 -0.04464164]\n",
            " [-0.09269548 -0.04464164]\n",
            " [ 0.00538306 -0.04464164]\n",
            " [ 0.03444337  0.05068012]\n",
            " [ 0.02354575 -0.04464164]\n",
            " [ 0.04170844  0.05068012]\n",
            " [-0.02730979 -0.04464164]\n",
            " [ 0.04170844  0.05068012]\n",
            " [-0.03094232 -0.04464164]\n",
            " [ 0.03081083  0.05068012]\n",
            " [-0.04183994 -0.04464164]\n",
            " [-0.03094232  0.05068012]\n",
            " [-0.05637009 -0.04464164]\n",
            " [-0.06000263  0.05068012]\n",
            " [-0.04910502  0.05068012]\n",
            " [ 0.02354575 -0.04464164]\n",
            " [ 0.00175052 -0.04464164]\n",
            " [-0.03457486  0.05068012]\n",
            " [ 0.04170844  0.05068012]\n",
            " [ 0.06713621  0.05068012]\n",
            " [-0.02730979  0.05068012]\n",
            " [-0.01641217 -0.04464164]\n",
            " [-0.00188202  0.05068012]\n",
            " [-0.01277963 -0.04464164]\n",
            " [-0.00551455 -0.04464164]\n",
            " [-0.00914709 -0.04464164]\n",
            " [-0.04547248  0.05068012]\n",
            " [-0.05273755 -0.04464164]\n",
            " [ 0.01628068  0.05068012]\n",
            " [ 0.04534098 -0.04464164]\n",
            " [-0.04183994 -0.04464164]\n",
            " [-0.05637009  0.05068012]\n",
            " [ 0.07076875 -0.04464164]\n",
            " [ 0.00175052  0.05068012]\n",
            " [-0.00188202 -0.04464164]\n",
            " [ 0.02354575  0.05068012]\n",
            " [-0.02004471 -0.04464164]\n",
            " [ 0.04170844  0.05068012]\n",
            " [-0.06363517  0.05068012]\n",
            " [ 0.01628068  0.05068012]\n",
            " [ 0.06713621 -0.04464164]\n",
            " [ 0.04534098  0.05068012]\n",
            " [ 0.04897352 -0.04464164]\n",
            " [ 0.04170844 -0.04464164]\n",
            " [-0.02367725 -0.04464164]\n",
            " [-0.0382074   0.05068012]\n",
            " [ 0.04897352 -0.04464164]\n",
            " [ 0.04534098  0.05068012]\n",
            " [ 0.04534098  0.05068012]\n",
            " [ 0.01628068 -0.04464164]\n",
            " [-0.07453279  0.05068012]\n",
            " [-0.08179786  0.05068012]\n",
            " [-0.06726771 -0.04464164]\n",
            " [ 0.00538306 -0.04464164]\n",
            " [-0.00188202 -0.04464164]\n",
            " [ 0.0090156  -0.04464164]\n",
            " [-0.00551455  0.05068012]\n",
            " [ 0.0562386   0.05068012]\n",
            " [ 0.0090156   0.05068012]\n",
            " [-0.06726771 -0.04464164]\n",
            " [ 0.02717829  0.05068012]\n",
            " [-0.02367725 -0.04464164]\n",
            " [ 0.04897352  0.05068012]\n",
            " [-0.05273755 -0.04464164]\n",
            " [ 0.04170844 -0.04464164]\n",
            " [ 0.0562386  -0.04464164]\n",
            " [-0.03457486  0.05068012]\n",
            " [ 0.08166637  0.05068012]\n",
            " [-0.00188202  0.05068012]\n",
            " [ 0.11072668  0.05068012]\n",
            " [-0.03094232 -0.04464164]\n",
            " [ 0.00175052  0.05068012]\n",
            " [ 0.0090156  -0.04464164]\n",
            " [ 0.03081083 -0.04464164]\n",
            " [ 0.03807591  0.05068012]\n",
            " [ 0.0090156  -0.04464164]\n",
            " [ 0.09256398 -0.04464164]\n",
            " [ 0.06713621 -0.04464164]\n",
            " [ 0.00175052 -0.04464164]\n",
            " [ 0.03081083 -0.04464164]\n",
            " [ 0.02717829  0.05068012]\n",
            " [ 0.01264814  0.05068012]\n",
            " [ 0.07440129 -0.04464164]\n",
            " [-0.04183994 -0.04464164]\n",
            " [-0.08906294 -0.04464164]\n",
            " [ 0.02354575  0.05068012]\n",
            " [-0.04547248 -0.04464164]\n",
            " [-0.02367725  0.05068012]\n",
            " [-0.09996055 -0.04464164]\n",
            " [-0.02730979 -0.04464164]\n",
            " [ 0.03081083  0.05068012]\n",
            " [-0.10359309  0.05068012]\n",
            " [ 0.06713621  0.05068012]\n",
            " [-0.05273755 -0.04464164]\n",
            " [-0.02730979  0.05068012]\n",
            " [-0.0382074   0.05068012]\n",
            " [ 0.0090156  -0.04464164]\n",
            " [ 0.01264814  0.05068012]\n",
            " [ 0.06713621 -0.04464164]\n",
            " [ 0.04534098 -0.04464164]\n",
            " [ 0.06713621  0.05068012]\n",
            " [ 0.02717829 -0.04464164]\n",
            " [ 0.0562386  -0.04464164]\n",
            " [ 0.03444337  0.05068012]\n",
            " [ 0.02354575 -0.04464164]\n",
            " [ 0.04897352  0.05068012]\n",
            " [ 0.03081083  0.05068012]\n",
            " [-0.10359309  0.05068012]\n",
            " [ 0.01628068  0.05068012]\n",
            " [-0.06000263  0.05068012]\n",
            " [-0.02730979 -0.04464164]\n",
            " [ 0.04170844 -0.04464164]\n",
            " [-0.08179786 -0.04464164]\n",
            " [-0.04183994 -0.04464164]\n",
            " [-0.01277963 -0.04464164]\n",
            " [ 0.06713621 -0.04464164]\n",
            " [-0.05273755  0.05068012]\n",
            " [ 0.00538306 -0.04464164]\n",
            " [ 0.08166637 -0.04464164]\n",
            " [ 0.03081083  0.05068012]\n",
            " [ 0.00175052 -0.04464164]\n",
            " [-0.04910502 -0.04464164]\n",
            " [-0.02730979  0.05068012]\n",
            " [ 0.07803383  0.05068012]\n",
            " [ 0.01264814 -0.04464164]\n",
            " [ 0.04170844 -0.04464164]\n",
            " [ 0.04897352 -0.04464164]\n",
            " [-0.01641217  0.05068012]\n",
            " [-0.07453279  0.05068012]\n",
            " [ 0.03444337  0.05068012]\n",
            " [-0.03457486  0.05068012]\n",
            " [-0.05273755  0.05068012]\n",
            " [ 0.05987114 -0.04464164]\n",
            " [ 0.06350368  0.05068012]\n",
            " [ 0.0090156  -0.04464164]\n",
            " [ 0.00538306  0.05068012]\n",
            " [ 0.03807591  0.05068012]\n",
            " [ 0.01264814 -0.04464164]\n",
            " [ 0.07440129  0.05068012]\n",
            " [ 0.01628068 -0.04464164]\n",
            " [-0.00551455  0.05068012]\n",
            " [ 0.01264814 -0.04464164]\n",
            " [-0.03457486 -0.04464164]\n",
            " [ 0.06713621  0.05068012]\n",
            " [ 0.03807591  0.05068012]\n",
            " [ 0.0090156   0.05068012]\n",
            " [-0.09269548  0.05068012]\n",
            " [ 0.07076875 -0.04464164]\n",
            " [-0.01641217 -0.04464164]\n",
            " [ 0.04170844  0.05068012]\n",
            " [ 0.01264814 -0.04464164]\n",
            " [-0.0382074  -0.04464164]\n",
            " [ 0.04534098 -0.04464164]\n",
            " [ 0.07076875  0.05068012]\n",
            " [-0.07453279  0.05068012]\n",
            " [ 0.05987114  0.05068012]\n",
            " [ 0.07440129 -0.04464164]\n",
            " [ 0.0090156  -0.04464164]\n",
            " [-0.07090025 -0.04464164]\n",
            " [ 0.02354575  0.05068012]\n",
            " [-0.05273755  0.05068012]\n",
            " [ 0.06713621 -0.04464164]\n",
            " [ 0.00175052 -0.04464164]\n",
            " [ 0.02354575  0.05068012]\n",
            " [ 0.03807591  0.05068012]\n",
            " [ 0.01628068 -0.04464164]\n",
            " [-0.00188202  0.05068012]\n",
            " [ 0.01264814 -0.04464164]\n",
            " [ 0.07440129 -0.04464164]\n",
            " [ 0.04170844  0.05068012]\n",
            " [-0.00914709  0.05068012]\n",
            " [ 0.0090156   0.05068012]\n",
            " [ 0.06713621  0.05068012]\n",
            " [ 0.00175052 -0.04464164]\n",
            " [-0.00914709  0.05068012]\n",
            " [-0.00551455 -0.04464164]\n",
            " [ 0.09619652 -0.04464164]\n",
            " [-0.07453279 -0.04464164]\n",
            " [ 0.05987114  0.05068012]\n",
            " [-0.02367725 -0.04464164]\n",
            " [ 0.0090156  -0.04464164]\n",
            " [ 0.01628068  0.05068012]\n",
            " [ 0.01991321 -0.04464164]\n",
            " [ 0.08893144 -0.04464164]\n",
            " [ 0.01991321 -0.04464164]\n",
            " [-0.02367725 -0.04464164]\n",
            " [ 0.09619652 -0.04464164]\n",
            " [ 0.02354575  0.05068012]\n",
            " [ 0.07076875  0.05068012]\n",
            " [ 0.03081083 -0.04464164]\n",
            " [-0.00188202 -0.04464164]\n",
            " [ 0.04534098  0.05068012]\n",
            " [ 0.07440129 -0.04464164]\n",
            " [-0.0382074  -0.04464164]\n",
            " [-0.01277963  0.05068012]\n",
            " [ 0.0090156   0.05068012]\n",
            " [ 0.08166637  0.05068012]\n",
            " [ 0.03081083 -0.04464164]\n",
            " [ 0.02717829  0.05068012]\n",
            " [-0.06000263  0.05068012]\n",
            " [ 0.00538306 -0.04464164]\n",
            " [-0.02004471 -0.04464164]\n",
            " [ 0.01991321  0.05068012]\n",
            " [-0.06363517 -0.04464164]\n",
            " [ 0.02717829 -0.04464164]\n",
            " [-0.01641217 -0.04464164]\n",
            " [ 0.03081083  0.05068012]\n",
            " [ 0.0562386   0.05068012]\n",
            " [-0.02004471 -0.04464164]\n",
            " [-0.10722563 -0.04464164]\n",
            " [ 0.08166637  0.05068012]\n",
            " [ 0.00538306  0.05068012]\n",
            " [ 0.03807591  0.05068012]\n",
            " [ 0.03081083 -0.04464164]\n",
            " [ 0.00175052  0.05068012]\n",
            " [-0.02730979  0.05068012]\n",
            " [-0.0854304   0.05068012]\n",
            " [ 0.01264814  0.05068012]\n",
            " [-0.05273755 -0.04464164]\n",
            " [-0.02367725  0.05068012]\n",
            " [-0.07453279  0.05068012]\n",
            " [-0.00551455  0.05068012]\n",
            " [-0.06000263  0.05068012]\n",
            " [-0.02004471 -0.04464164]\n",
            " [ 0.03807591  0.05068012]\n",
            " [ 0.01628068 -0.04464164]\n",
            " [ 0.04170844 -0.04464164]\n",
            " [ 0.01991321  0.05068012]\n",
            " [-0.04910502  0.05068012]\n",
            " [ 0.00175052  0.05068012]\n",
            " [ 0.03444337 -0.04464164]\n",
            " [-0.04547248  0.05068012]\n",
            " [-0.00914709  0.05068012]\n",
            " [-0.01641217  0.05068012]\n",
            " [-0.00914709 -0.04464164]\n",
            " [ 0.01991321 -0.04464164]\n",
            " [ 0.05260606  0.05068012]\n",
            " [-0.02730979  0.05068012]\n",
            " [-0.07453279 -0.04464164]\n",
            " [-0.10722563 -0.04464164]\n",
            " [ 0.04534098  0.05068012]\n",
            " [-0.00188202 -0.04464164]\n",
            " [ 0.01991321  0.05068012]\n",
            " [ 0.01628068  0.05068012]\n",
            " [-0.00188202 -0.04464164]\n",
            " [ 0.01628068 -0.04464164]\n",
            " [-0.07090025  0.05068012]\n",
            " [ 0.04897352 -0.04464164]\n",
            " [ 0.00538306  0.05068012]\n",
            " [ 0.03444337  0.05068012]\n",
            " [ 0.02354575  0.05068012]\n",
            " [ 0.01991321 -0.04464164]\n",
            " [-0.04547248 -0.04464164]\n",
            " [ 0.05260606  0.05068012]\n",
            " [-0.00551455  0.05068012]\n",
            " [ 0.0090156   0.05068012]\n",
            " [-0.02367725 -0.04464164]\n",
            " [-0.04183994  0.05068012]\n",
            " [-0.07453279 -0.04464164]\n",
            " [ 0.03444337 -0.04464164]\n",
            " [-0.06000263 -0.04464164]\n",
            " [-0.0854304   0.05068012]\n",
            " [ 0.05260606 -0.04464164]\n",
            " [ 0.01264814 -0.04464164]\n",
            " [ 0.05987114  0.05068012]\n",
            " [-0.02367725 -0.04464164]\n",
            " [ 0.01628068 -0.04464164]\n",
            " [ 0.11072668  0.05068012]\n",
            " [-0.02004471 -0.04464164]\n",
            " [-0.01641217 -0.04464164]\n",
            " [ 0.04897352  0.05068012]\n",
            " [-0.05637009 -0.04464164]\n",
            " [ 0.02717829 -0.04464164]\n",
            " [ 0.06350368 -0.04464164]\n",
            " [-0.05273755  0.05068012]\n",
            " [-0.00914709  0.05068012]\n",
            " [ 0.00538306 -0.04464164]\n",
            " [ 0.07440129 -0.04464164]\n",
            " [-0.05273755 -0.04464164]\n",
            " [ 0.08166637  0.05068012]\n",
            " [-0.00551455 -0.04464164]\n",
            " [-0.02730979 -0.04464164]\n",
            " [-0.05273755 -0.04464164]\n",
            " [ 0.0090156  -0.04464164]\n",
            " [-0.02004471 -0.04464164]\n",
            " [ 0.02354575 -0.04464164]\n",
            " [ 0.03807591  0.05068012]\n",
            " [-0.07816532  0.05068012]\n",
            " [ 0.0090156   0.05068012]\n",
            " [ 0.00175052  0.05068012]\n",
            " [-0.07816532 -0.04464164]\n",
            " [ 0.03081083  0.05068012]\n",
            " [-0.03457486  0.05068012]\n",
            " [ 0.04897352  0.05068012]\n",
            " [-0.04183994 -0.04464164]\n",
            " [-0.00914709 -0.04464164]\n",
            " [ 0.07076875  0.05068012]\n",
            " [ 0.0090156  -0.04464164]\n",
            " [-0.02730979 -0.04464164]\n",
            " [ 0.01628068 -0.04464164]\n",
            " [-0.01277963 -0.04464164]\n",
            " [-0.05637009 -0.04464164]\n",
            " [ 0.04170844  0.05068012]\n",
            " [-0.00551455  0.05068012]\n",
            " [ 0.04170844  0.05068012]\n",
            " [-0.04547248 -0.04464164]\n",
            " [-0.04547248 -0.04464164]]\n"
          ]
        }
      ]
    },
    {
      "cell_type": "code",
      "source": [
        "#Graph of first column vs last column of data_test1\n",
        "sb.scatterplot(x=x[:,0],y=x[:,1],c=[\"green\"])"
      ],
      "metadata": {
        "colab": {
          "base_uri": "https://localhost:8080/",
          "height": 364
        },
        "id": "kGtAlTD6_xGa",
        "outputId": "237d6cfd-87ad-4cc6-886f-4b5ad35de469"
      },
      "execution_count": 40,
      "outputs": [
        {
          "output_type": "execute_result",
          "data": {
            "text/plain": [
              "<matplotlib.axes._subplots.AxesSubplot at 0x7f4112889390>"
            ]
          },
          "metadata": {},
          "execution_count": 40
        },
        {
          "output_type": "display_data",
          "data": {
            "image/png": "[encoded data removed]",
            "text/plain": [
              "<Figure size 576x396 with 1 Axes>"
            ]
          },
          "metadata": {}
        }
      ]
    },
    {
      "cell_type": "code",
      "source": [
        "dendrogram(linkage(x,'weighted'),orientation='top',distance_sort='descending',show_leaf_counts=True)\n",
        "plt.show()"
      ],
      "metadata": {
        "colab": {
          "base_uri": "https://localhost:8080/",
          "height": 346
        },
        "id": "eQtwqMhE_kqa",
        "outputId": "e744cb83-8384-4a26-bba4-e68e10168c48"
      },
      "execution_count": 41,
      "outputs": [
        {
          "output_type": "display_data",
          "data": {
            "image/png": "[encoded data removed]",
            "text/plain": [
              "<Figure size 576x396 with 1 Axes>"
            ]
          },
          "metadata": {}
        }
      ]
    },
    {
      "cell_type": "code",
      "source": [
        "db_model=AgglomerativeClustering(n_clusters=2,affinity='euclidean',linkage='ward')\n",
        "db_model.fit_predict(x)"
      ],
      "metadata": {
        "colab": {
          "base_uri": "https://localhost:8080/"
        },
        "id": "gFJa_CnpAlqQ",
        "outputId": "fe9c0817-b5be-4a14-ec8d-3b9a226f24cb"
      },
      "execution_count": 42,
      "outputs": [
        {
          "output_type": "execute_result",
          "data": {
            "text/plain": [
              "array([1, 0, 1, 0, 0, 0, 1, 1, 1, 0, 0, 1, 0, 1, 0, 1, 0, 1, 0, 0, 0, 1,\n",
              "       0, 1, 0, 1, 0, 0, 0, 1, 0, 0, 1, 0, 0, 1, 0, 0, 1, 1, 1, 0, 1, 0,\n",
              "       1, 1, 0, 0, 1, 1, 0, 1, 0, 0, 0, 0, 0, 0, 0, 1, 0, 1, 1, 0, 1, 1,\n",
              "       1, 1, 1, 0, 0, 0, 1, 1, 1, 1, 1, 0, 0, 0, 0, 1, 0, 0, 0, 0, 1, 0,\n",
              "       1, 0, 0, 0, 0, 0, 0, 0, 1, 0, 1, 0, 0, 1, 0, 1, 0, 1, 0, 0, 1, 1,\n",
              "       1, 0, 0, 1, 0, 1, 1, 0, 1, 0, 0, 0, 1, 1, 0, 1, 0, 1, 0, 0, 1, 0,\n",
              "       1, 1, 0, 0, 0, 0, 1, 0, 1, 0, 1, 0, 1, 0, 1, 0, 1, 1, 0, 0, 1, 1,\n",
              "       1, 1, 0, 1, 0, 0, 0, 1, 0, 1, 0, 0, 1, 0, 1, 0, 1, 0, 1, 1, 1, 0,\n",
              "       1, 0, 0, 0, 1, 0, 1, 1, 0, 1, 1, 0, 0, 0, 0, 1, 1, 1, 0, 1, 0, 1,\n",
              "       0, 0, 0, 1, 1, 1, 1, 0, 1, 0, 0, 1, 0, 0, 0, 0, 0, 1, 1, 0, 0, 0,\n",
              "       1, 0, 1, 0, 0, 1, 1, 1, 0, 1, 1, 0, 1, 0, 0, 1, 0, 0, 1, 0, 1, 1,\n",
              "       1, 1, 1, 0, 0, 0, 0, 0, 0, 1, 0, 0, 1, 0, 0, 1, 1, 0, 0, 0, 1, 1,\n",
              "       1, 1, 1, 0, 1, 0, 1, 1, 0, 1, 0, 1, 0, 0, 1, 1, 1, 1, 0, 0, 1, 0,\n",
              "       0, 0, 1, 1, 1, 0, 0, 0, 1, 1, 0, 0, 1, 1, 0, 1, 0, 0, 1, 1, 1, 1,\n",
              "       0, 1, 0, 0, 0, 1, 0, 0, 1, 0, 0, 0, 0, 0, 1, 1, 0, 0, 1, 0, 0, 1,\n",
              "       1, 1, 0, 1, 1, 0, 0, 1, 0, 0, 0, 1, 1, 0, 0, 1, 1, 1, 0, 1, 1, 1,\n",
              "       1, 0, 1, 1, 1, 1, 0, 1, 0, 0, 1, 1, 1, 0, 1, 1, 1, 0, 0, 1, 1, 0,\n",
              "       0, 1, 0, 1, 1, 0, 0, 1, 0, 1, 1, 1, 0, 0, 1, 1, 1, 0, 1, 0, 0, 0,\n",
              "       1, 0, 0, 1, 0, 0, 1, 0, 0, 1, 0, 0, 0, 1, 1, 0, 0, 0, 1, 0, 0, 0,\n",
              "       0, 0, 0, 1, 1, 1, 1, 0, 1, 1, 1, 0, 0, 1, 0, 0, 0, 0, 0, 1, 1, 1,\n",
              "       0, 0])"
            ]
          },
          "metadata": {},
          "execution_count": 42
        }
      ]
    },
    {
      "cell_type": "code",
      "source": [
        "plt.scatter(x=x[:,0],y=x[:,1],c=db_model.labels_,cmap='rainbow')"
      ],
      "metadata": {
        "colab": {
          "base_uri": "https://localhost:8080/",
          "height": 364
        },
        "id": "q5ZEleOwAygq",
        "outputId": "7af778f5-228e-402c-bd78-afecf07ac6b5"
      },
      "execution_count": 43,
      "outputs": [
        {
          "output_type": "execute_result",
          "data": {
            "text/plain": [
              "<matplotlib.collections.PathCollection at 0x7f411820c150>"
            ]
          },
          "metadata": {},
          "execution_count": 43
        },
        {
          "output_type": "display_data",
          "data": {
            "image/png": "[encoded data removed]",
            "text/plain": [
              "<Figure size 576x396 with 1 Axes>"
            ]
          },
          "metadata": {}
        }
      ]
    },
    {
      "cell_type": "code",
      "source": [
        "# Import the KElbowVisualizer method\n",
        "from sklearn.cluster import AgglomerativeClustering\n",
        "from yellowbrick.cluster import KElbowVisualizer\n",
        "\n",
        "# Instantiate a scikit-learn Hierarchical model\n",
        "model = AgglomerativeClustering()\n",
        "# model=KMeans()\n",
        "\n",
        "# Instantiate the KElbowVisualizer with the number of clusters and the metric\n",
        "visulizer = KElbowVisualizer(model, k=(2,50), metric='silhouette', timings=False)\n",
        "\n",
        "# Fit the data and visualize\n",
        "visulizer.fit(x)\n",
        "visulizer.poof()"
      ],
      "metadata": {
        "colab": {
          "base_uri": "https://localhost:8080/",
          "height": 394
        },
        "id": "NGKhZkRnLxyX",
        "outputId": "52a832d0-8b0c-43a8-919e-0f5299de6fb4"
      },
      "execution_count": 44,
      "outputs": [
        {
          "output_type": "display_data",
          "data": {
            "image/png": "[encoded data removed]",
            "text/plain": [
              "<Figure size 576x396 with 1 Axes>"
            ]
          },
          "metadata": {}
        },
        {
          "output_type": "execute_result",
          "data": {
            "text/plain": [
              "<matplotlib.axes._subplots.AxesSubplot at 0x7f412fb5a190>"
            ]
          },
          "metadata": {},
          "execution_count": 44
        }
      ]
    },
    {
      "cell_type": "code",
      "source": [
        "from sklearn.cluster import AgglomerativeClustering\n",
        "\n",
        "hc_model = AgglomerativeClustering(n_clusters=2, affinity=\"euclidean\", linkage='ward')\n",
        "hc_model.fit_predict(x)"
      ],
      "metadata": {
        "colab": {
          "base_uri": "https://localhost:8080/"
        },
        "id": "_U_TIfL_L3fn",
        "outputId": "4bd0ec54-495f-433a-e6b3-265dadcfcd37"
      },
      "execution_count": 45,
      "outputs": [
        {
          "output_type": "execute_result",
          "data": {
            "text/plain": [
              "array([1, 0, 1, 0, 0, 0, 1, 1, 1, 0, 0, 1, 0, 1, 0, 1, 0, 1, 0, 0, 0, 1,\n",
              "       0, 1, 0, 1, 0, 0, 0, 1, 0, 0, 1, 0, 0, 1, 0, 0, 1, 1, 1, 0, 1, 0,\n",
              "       1, 1, 0, 0, 1, 1, 0, 1, 0, 0, 0, 0, 0, 0, 0, 1, 0, 1, 1, 0, 1, 1,\n",
              "       1, 1, 1, 0, 0, 0, 1, 1, 1, 1, 1, 0, 0, 0, 0, 1, 0, 0, 0, 0, 1, 0,\n",
              "       1, 0, 0, 0, 0, 0, 0, 0, 1, 0, 1, 0, 0, 1, 0, 1, 0, 1, 0, 0, 1, 1,\n",
              "       1, 0, 0, 1, 0, 1, 1, 0, 1, 0, 0, 0, 1, 1, 0, 1, 0, 1, 0, 0, 1, 0,\n",
              "       1, 1, 0, 0, 0, 0, 1, 0, 1, 0, 1, 0, 1, 0, 1, 0, 1, 1, 0, 0, 1, 1,\n",
              "       1, 1, 0, 1, 0, 0, 0, 1, 0, 1, 0, 0, 1, 0, 1, 0, 1, 0, 1, 1, 1, 0,\n",
              "       1, 0, 0, 0, 1, 0, 1, 1, 0, 1, 1, 0, 0, 0, 0, 1, 1, 1, 0, 1, 0, 1,\n",
              "       0, 0, 0, 1, 1, 1, 1, 0, 1, 0, 0, 1, 0, 0, 0, 0, 0, 1, 1, 0, 0, 0,\n",
              "       1, 0, 1, 0, 0, 1, 1, 1, 0, 1, 1, 0, 1, 0, 0, 1, 0, 0, 1, 0, 1, 1,\n",
              "       1, 1, 1, 0, 0, 0, 0, 0, 0, 1, 0, 0, 1, 0, 0, 1, 1, 0, 0, 0, 1, 1,\n",
              "       1, 1, 1, 0, 1, 0, 1, 1, 0, 1, 0, 1, 0, 0, 1, 1, 1, 1, 0, 0, 1, 0,\n",
              "       0, 0, 1, 1, 1, 0, 0, 0, 1, 1, 0, 0, 1, 1, 0, 1, 0, 0, 1, 1, 1, 1,\n",
              "       0, 1, 0, 0, 0, 1, 0, 0, 1, 0, 0, 0, 0, 0, 1, 1, 0, 0, 1, 0, 0, 1,\n",
              "       1, 1, 0, 1, 1, 0, 0, 1, 0, 0, 0, 1, 1, 0, 0, 1, 1, 1, 0, 1, 1, 1,\n",
              "       1, 0, 1, 1, 1, 1, 0, 1, 0, 0, 1, 1, 1, 0, 1, 1, 1, 0, 0, 1, 1, 0,\n",
              "       0, 1, 0, 1, 1, 0, 0, 1, 0, 1, 1, 1, 0, 0, 1, 1, 1, 0, 1, 0, 0, 0,\n",
              "       1, 0, 0, 1, 0, 0, 1, 0, 0, 1, 0, 0, 0, 1, 1, 0, 0, 0, 1, 0, 0, 0,\n",
              "       0, 0, 0, 1, 1, 1, 1, 0, 1, 1, 1, 0, 0, 1, 0, 0, 0, 0, 0, 1, 1, 1,\n",
              "       0, 0])"
            ]
          },
          "metadata": {},
          "execution_count": 45
        }
      ]
    },
    {
      "cell_type": "code",
      "source": [
        "from sklearn.cluster import KMeans\n",
        "kmeans = KMeans(n_clusters=2, random_state=0).fit(x)"
      ],
      "metadata": {
        "id": "4Rs9pg5BL73m"
      },
      "execution_count": 46,
      "outputs": []
    },
    {
      "cell_type": "code",
      "source": [
        "# print the data points\n",
        "plt.scatter(x=x[:,0], y=x[:,1], c=hc_model.labels_, cmap='rainbow')\n",
        "plt.scatter(kmeans.cluster_centers_[:, 0], \n",
        "            kmeans.cluster_centers_[:, 1],\n",
        "            c='yellow', marker='x')\n",
        "plt.title('Data points and cluster centroids')\n",
        "plt.show()"
      ],
      "metadata": {
        "colab": {
          "base_uri": "https://localhost:8080/",
          "height": 362
        },
        "id": "bHk-smT0L-Ff",
        "outputId": "f8d4ab28-c184-48b3-dfd0-bed3ebbc4803"
      },
      "execution_count": 47,
      "outputs": [
        {
          "output_type": "display_data",
          "data": {
            "image/png": "[encoded data removed]",
            "text/plain": [
              "<Figure size 576x396 with 1 Axes>"
            ]
          },
          "metadata": {}
        }
      ]
    },
    {
      "cell_type": "code",
      "source": [
        " # Calculate silhouette_score\n",
        "from sklearn.metrics import silhouette_score\n",
        "# print(silhouette_score(x, kmeans.labels_))\n",
        "print(\"Silhouette Score = \", silhouette_score(x, hc_model.labels_))"
      ],
      "metadata": {
        "colab": {
          "base_uri": "https://localhost:8080/"
        },
        "id": "q3mV5X1MMCI-",
        "outputId": "fdb1c595-87b3-4c63-ccbf-e53e45feca42"
      },
      "execution_count": 48,
      "outputs": [
        {
          "output_type": "stream",
          "name": "stdout",
          "text": [
            "Silhouette Score =  0.5411088328922965\n"
          ]
        }
      ]
    }
  ]
}